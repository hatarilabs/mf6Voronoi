{
 "cells": [
  {
   "cell_type": "code",
   "execution_count": null,
   "metadata": {},
   "outputs": [],
   "source": [
    "import geopandas as gpd"
   ]
  },
  {
   "cell_type": "code",
   "execution_count": null,
   "metadata": {},
   "outputs": [],
   "source": [
    "meshDf = gpd.read_file('output/regionalModel.shp')\n",
    "meshDf.plot(figsize=(35,25), fc='crimson', alpha=0.3, ec='teal') "
   ]
  },
  {
   "cell_type": "code",
   "execution_count": null,
   "metadata": {},
   "outputs": [],
   "source": [
    "meshDf = gpd.read_file('output/riverAquifer.shp')\n",
    "meshDf.plot(figsize=(35,25), fc='crimson', alpha=0.3, ec='teal')"
   ]
  },
  {
   "cell_type": "code",
   "execution_count": null,
   "metadata": {},
   "outputs": [],
   "source": [
    "meshDf = gpd.read_file('output/siteDewatering.shp') \n",
    "meshDf.plot(figsize=(35,25), fc='crimson', alpha=0.3, ec='teal')"
   ]
  },
  {
   "cell_type": "code",
   "execution_count": null,
   "metadata": {},
   "outputs": [],
   "source": [
    "meshDf = gpd.read_file('output/trenchExcavation.shp')\n",
    "meshDf.plot(figsize=(35,25), fc='crimson', alpha=0.3, ec='teal')"
   ]
  },
  {
   "cell_type": "code",
   "execution_count": null,
   "metadata": {},
   "outputs": [],
   "source": [
    "meshDf = gpd.read_file('output/stibniteMine.shp')\n",
    "meshDf.plot(figsize=(35,25), fc='crimson', alpha=0.3, ec='teal')"
   ]
  }
 ],
 "metadata": {
  "kernelspec": {
   "display_name": "Python 3",
   "language": "python",
   "name": "python3"
  },
  "language_info": {
   "codemirror_mode": {
    "name": "ipython",
    "version": 3
   },
   "file_extension": ".py",
   "mimetype": "text/x-python",
   "name": "python",
   "nbconvert_exporter": "python",
   "pygments_lexer": "ipython3",
   "version": "3.10.12"
  }
 },
 "nbformat": 4,
 "nbformat_minor": 2
}
