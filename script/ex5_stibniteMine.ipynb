{
 "cells": [
  {
   "cell_type": "markdown",
   "id": "cd404f9d",
   "metadata": {},
   "source": [
    "### Part 1 : Voronoi mesh generation"
   ]
  },
  {
   "cell_type": "code",
   "execution_count": 1,
   "id": "472dc38b",
   "metadata": {},
   "outputs": [],
   "source": [
    "import warnings\n",
    "warnings.filterwarnings('ignore')\n",
    "\n",
    "import os\n",
    "import sys\n",
    "#adding path to source directory\n",
    "sys.path.insert(0, '../voronoiMeshMF6')\n",
    "import geopandas as gpd\n",
    "from geoVoronoi import createVoronoi\n",
    "from geoUtils import plotOrgDistPoints, plotCirclesPoints, plotKeyList\n"
   ]
  },
  {
   "cell_type": "code",
   "execution_count": 2,
   "id": "d94519a3",
   "metadata": {},
   "outputs": [
    {
     "name": "stdout",
     "output_type": "stream",
     "text": [
      "\n",
      "/--------Sumary of cell discretization-------/\n",
      "Maximun refinement progressive: 322.19 m.\n",
      "Maximun refinement coarse areas: 500.00 m.\n",
      "Minimum refinement: 5.00 m.\n",
      "Cell size list: [  5.      17.5     48.75   126.875  322.1875] m.\n",
      "/--------------------------------------------/\n",
      "\n"
     ]
    }
   ],
   "source": [
    "\n",
    "#Create mesh object\n",
    "vorMesh = createVoronoi()\n",
    "\n",
    "#Define base refinement and refinement levels\n",
    "vorMesh.defineParameters(maxRef = 500, minRef=5, multiplier=2.5)\n",
    "\n",
    "#Open limit layers and refinement definition layers\n",
    "vorMesh.addLimit('basin','../examples/stibniteMine/Shp/catchment_11N.shp')\n",
    "vorMesh.addLayer('water','../examples/stibniteMine/Shp/river_basin_11N.shp')\n",
    "vorMesh.addLayer('pit','../examples/stibniteMine/Shp/minePits_11N.shp')\n",
    "vorMesh.addLayer('dump','../examples/stibniteMine/Shp/mineDumps_11N.shp')\n",
    "#vorMesh.addLayer('faults','../examples/stibniteMine/Shp/faults.shp')\n",
    "\n",
    "#Generate point pair array\n",
    "vorMesh.extractOrgVertices()\n",
    "\n",
    "#Generate the point cloud and voronoi\n",
    "vorMesh.createPointCloud()\n",
    "vorMesh.generateVoronoi()\n",
    "\n",
    "#check or create an output folder\n",
    "outPath = '../examples/stibniteMine/output'\n",
    "if os.path.isdir(outPath):\n",
    "    print('The output folder %s exists'%outPath)\n",
    "else:\n",
    "    os.mkdir(outPath)\n",
    "    print('The output folder %s has been generated.'%outPath)\n",
    "\n",
    "#Export point data and voronoi polygons\n",
    "#Points\n",
    "# vorMesh.getPointsAsShp('vertexOrg',outPath+'/vertexOrg.shp')\n",
    "# vorMesh.getPointsAsShp('vertexDist',outPath+'/vertexDist.shp')\n",
    "# vorMesh.getPointsAsShp('vertexBuffer',outPath+'/vertexBuffer.shp')\n",
    "# vorMesh.getPointsAsShp('vertexMaxRef',outPath+'/vertexMaxRef.shp')\n",
    "# vorMesh.getPointsAsShp('vertexMinRef',outPath+'/vertexMinRef.shp')\n",
    "# vorMesh.getPointsAsShp('vertexTotal',outPath+'/vertexTotal.shp')\n",
    "#Polygons\n",
    "\n",
    "vorMesh.getPolyAsShp('voronoiRegions',outPath+'/voronoiRegions.shp')\n"
   ]
  },
  {
   "cell_type": "code",
   "execution_count": null,
   "id": "16b5c2d3-32e6-46c8-8ff9-c5741a0181e5",
   "metadata": {},
   "outputs": [],
   "source": [
    "plotOrgDistPoints(vorMesh)\n"
   ]
  },
  {
   "cell_type": "code",
   "execution_count": null,
   "id": "2bccd825",
   "metadata": {},
   "outputs": [],
   "source": [
    "plotCirclesPoints(vorMesh)"
   ]
  },
  {
   "cell_type": "code",
   "execution_count": null,
   "id": "c1ebf147",
   "metadata": {},
   "outputs": [],
   "source": [
    "plotKeyList(vorMesh, ['pointsMaxRefPoly'])"
   ]
  },
  {
   "cell_type": "code",
   "execution_count": 6,
   "id": "a6d73b56",
   "metadata": {},
   "outputs": [],
   "source": [
    "# Show the resulting voronoi mesh\n",
    "\n",
    "#open the mesh file\n",
    "mesh=gpd.read_file(outPath+'/voronoiRegions.shp')"
   ]
  },
  {
   "cell_type": "code",
   "execution_count": null,
   "id": "a4877cb4",
   "metadata": {},
   "outputs": [],
   "source": [
    "#plot the mesh\n",
    "mesh.plot(figsize=(35,25), fc='crimson', alpha=0.3, ec='teal')"
   ]
  },
  {
   "cell_type": "code",
   "execution_count": null,
   "id": "e6500ce9",
   "metadata": {},
   "outputs": [],
   "source": []
  }
 ],
 "metadata": {
  "kernelspec": {
   "display_name": "Python 3",
   "language": "python",
   "name": "python3"
  },
  "language_info": {
   "codemirror_mode": {
    "name": "ipython",
    "version": 3
   },
   "file_extension": ".py",
   "mimetype": "text/x-python",
   "name": "python",
   "nbconvert_exporter": "python",
   "pygments_lexer": "ipython3",
   "version": "3.10.12"
  }
 },
 "nbformat": 4,
 "nbformat_minor": 5
}
