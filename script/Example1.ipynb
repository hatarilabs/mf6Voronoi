{
 "cells": [
  {
   "cell_type": "code",
   "execution_count": null,
   "id": "9e543058-0522-412b-bd25-657f93aa76d2",
   "metadata": {},
   "outputs": [],
   "source": []
  },
  {
   "cell_type": "code",
   "execution_count": null,
   "id": "997f1819-31c8-4ea0-b111-e59334a13afd",
   "metadata": {},
   "outputs": [],
   "source": [
    "vorMesh = createVoronoi()\n",
    "\n",
    "outMessage = {}\n",
    "vorParam = vorMesh.defineParameters(maxRef = meshDict['maxRefinement'],\n",
    "    minRef=meshDict['minRefinement'],\n",
    "    stages=meshDict['modelStages'])\n"
   ]
  }
 ],
 "metadata": {
  "kernelspec": {
   "display_name": "Python 3 (ipykernel)",
   "language": "python",
   "name": "python3"
  },
  "language_info": {
   "codemirror_mode": {
    "name": "ipython",
    "version": 3
   },
   "file_extension": ".py",
   "mimetype": "text/x-python",
   "name": "python",
   "nbconvert_exporter": "python",
   "pygments_lexer": "ipython3",
   "version": "3.11.6"
  }
 },
 "nbformat": 4,
 "nbformat_minor": 5
}
