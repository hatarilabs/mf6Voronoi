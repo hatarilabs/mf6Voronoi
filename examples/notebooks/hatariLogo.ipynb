{
 "cells": [
  {
   "cell_type": "code",
   "execution_count": null,
   "metadata": {
    "vscode": {
     "languageId": "plaintext"
    }
   },
   "outputs": [],
   "source": [
    "from ascii_magic import AsciiArt\n",
    "from PIL import ImageEnhance\n",
    "\n",
    "my_art = AsciiArt.from_image('lion.jpg')\n",
    "my_art.image = ImageEnhance.Brightness(my_art.image).enhance(0.2)\n",
    "my_art.to_terminal()"
   ]
  }
 ],
 "metadata": {
  "language_info": {
   "name": "python"
  }
 },
 "nbformat": 4,
 "nbformat_minor": 2
}
