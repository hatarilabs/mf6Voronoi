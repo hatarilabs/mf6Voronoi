{
 "cells": [
  {
   "cell_type": "markdown",
   "id": "cd404f9d",
   "metadata": {},
   "source": [
    "### Part 1 : Voronoi mesh generation"
   ]
  },
  {
   "cell_type": "code",
   "execution_count": 1,
   "id": "472dc38b",
   "metadata": {},
   "outputs": [],
   "source": [
    "import warnings\n",
    "warnings.filterwarnings('ignore')\n",
    "\n",
    "import os\n",
    "import geopandas as gpd\n",
    "from mf6Voronoi.geoVoronoi import createVoronoi\n",
    "from mf6Voronoi.geoUtils import plotOrgDistPoints, plotCirclesPoints, plotKeyList"
   ]
  },
  {
   "cell_type": "code",
   "execution_count": 2,
   "id": "92371852",
   "metadata": {},
   "outputs": [],
   "source": [
    "#Create mesh object specifying the coarse mesh and the multiplier\n",
    "vorMesh = createVoronoi(meshName='regionalModel',maxRef = 500, multiplier=1.5)\n",
    "\n",
    "#Open limit layers and refinement definition layers\n",
    "vorMesh.addLimit('basin','../../examples/regionalModel/shp/Angascancha_Basin_Extension.shp')\n",
    "vorMesh.addLayer('river','../../examples/regionalModel/shp/rios.shp',50)\n"
   ]
  },
  {
   "cell_type": "code",
   "execution_count": 13,
   "id": "8ce6e926",
   "metadata": {},
   "outputs": [
    {
     "data": {
      "image/svg+xml": [
       "<svg xmlns=\"http://www.w3.org/2000/svg\" xmlns:xlink=\"http://www.w3.org/1999/xlink\" width=\"300\" height=\"300\" viewBox=\"612823.111332868 8347860.671351598 23798.95578081452 28603.676498699933\" preserveAspectRatio=\"xMinYMin meet\"><g transform=\"matrix(1,0,0,-1,0,16724325.019201895)\"><path fill-rule=\"evenodd\" fill=\"#66cc99\" stroke=\"#555555\" stroke-width=\"190.69117665799956\" opacity=\"0.6\" d=\"M 622980.1040573239,8350305.5816448275 L 622260.1272136845,8350199.280884891 L 621578.3548138251,8350349.406861829 L 620954.2305821972,8350957.519347298 L 620494.440969283,8351234.819652484 L 619590.2578793983,8351184.355780579 L 618981.4147973276,8351169.05663886 L 618501.7023746539,8351153.103396365 L 618114.9493145156,8351283.338771629 L 617747.0902170492,8351505.136541193 L 617583.1352067143,8351927.587599622 L 617253.0538451251,8352332.524994594 L 616812.0939016906,8352701.338074771 L 616278.5232840028,8352997.263602382 L 616022.9976835693,8353566.840259757 L 615970.3994456063,8354135.446497202 L 616045.0827180046,8354318.427536463 L 616175.9141113504,8354666.148487678 L 616270.2933742341,8355105.724886907 L 616291.4961721959,8355674.010564493 L 615850.6344095143,8356079.521370419 L 615150.4786629662,8356284.5800898215 L 614523.4165383601,8356342.584701426 L 614193.9174497369,8356894.230480833 L 613882.5067587458,8357372.451446082 L 613903.5641560691,8357922.451700522 L 614364.6881187079,8357883.589410141 L 614789.4325669624,8357954.913373016 L 615012.0841793056,8358210.568422955 L 614848.0278903926,8358633.110366279 L 614739.4113113958,8359073.731588887 L 614833.5128304285,8359458.379487746 L 614853.4532353403,8359770.033800179 L 614891.8474926021,8360081.604081381 L 614856.6018660103,8360430.20723137 L 615097.5540735791,8360649.124001816 L 615301.5144155964,8360849.878560446 L 615709.0930895084,8361178.032068737 L 616005.4247322644,8361396.681728784 L 616301.9388387668,8361652.008860592 L 616690.9124313347,8361943.568278944 L 616729.9534501916,8362383.544805489 L 616676.006492311,8362677.253889772 L 616529.1581798489,8362843.029745169 L 616881.3296182317,8363153.120726088 L 617196.063092084,8363353.345903617 L 617290.9291258949,8363884.784308941 L 617385.5310045824,8364361.209688754 L 617756.4606344465,8364726.245197354 L 618201.5012647135,8365145.946468384 L 618683.0230516511,8365473.754522687 L 619127.2801835671,8365728.369825223 L 619497.0787412913,8365854.94607519 L 619775.3165872593,8366128.718165311 L 620146.1279066008,8366457.061714105 L 620387.2794236855,8366694.331148702 L 620756.4592964982,8366692.490527238 L 621291.6787841598,8366671.468176339 L 621513.0948818551,8366652.01274812 L 621607.3268197031,8367036.763868567 L 622106.5619755267,8367199.347318286 L 622698.4747699648,8367434.83036047 L 623087.9944372935,8367799.746070505 L 623108.6004232669,8368221.576380923 L 623590.2542539601,8368549.337768967 L 624054.49431696,8369078.987945649 L 624555.9602742331,8369663.489970902 L 624835.5287622206,8370175.754383115 L 625003.1049500633,8370450.093412789 L 625262.9964121451,8370723.957920463 L 625597.1240176922,8371070.828528229 L 626023.575645584,8371417.220771438 L 626631.7024966546,8371193.881410794 L 626796.8122726664,8370991.195785317 L 627184.0464267806,8370897.430689756 L 627534.5460102434,8370840.547537627 L 627847.7323444597,8370710.466651638 L 627813.7083528034,8371261.072024736 L 627670.2534783629,8372069.140912587 L 627673.2453662311,8372637.930046834 L 627918.1091827957,8373554.096707652 L 628087.289872664,8374122.04520326 L 628811.2213987135,8374833.87627873 L 629514.2858180543,8375087.049374459 L 630142.6179522076,8375175.448246749 L 631122.3068901998,8375353.694471516 L 631824.3214296254,8375404.95242442 L 632560.0720588178,8374868.775745205 L 632850.3108385943,8373912.970114971 L 632994.0138651985,8373178.192310659 L 633044.6818522094,8372315.502436293 L 633246.4763380062,8372075.861036546 L 633780.6128420967,8371834.3898242405 L 634185.2918784136,8371556.927841398 L 634479.0804218516,8371261.728263905 L 635232.187937798,8370560.317863179 L 635562.6716878047,8370228.215090728 L 635044.1868659918,8369955.8989344 L 634379.2385975922,8369904.553544007 L 633769.3773840292,8369797.845059934 L 633656.7829740713,8369468.221842898 L 633544.0901393661,8369120.256816346 L 633411.5237485375,8368515.559733402 L 633317.5007183021,8368204.196603818 L 633077.1058861467,8368132.136198041 L 632744.5095575713,8368078.925252739 L 632356.0314046643,8367934.287664097 L 632242.4606908886,8367421.238420013 L 632020.9380903695,8367422.448162081 L 631413.9434166006,8367829.34840205 L 630730.8071032445,8367814.702796222 L 630268.7041271947,8367707.122840871 L 629934.7438563831,8367397.051417867 L 629525.479475321,8366812.2139463825 L 628949.9065197232,8366191.584777756 L 628726.2485192087,8365789.211778436 L 628834.8497894941,8365385.074733084 L 628813.6529331964,8364871.577608389 L 628349.2771212053,8364323.765742111 L 628771.6505887605,8363917.98289194 L 629101.4303067704,8363457.667602678 L 629228.468446139,8363053.467157353 L 629316.9173052672,8362337.677548881 L 629386.9035681594,8361622.007220606 L 629366.5776749304,8361273.646892964 L 629329.7653904927,8361292.184836145 L 629511.8548514905,8360832.7016233755 L 629803.3799681787,8360134.220404636 L 629762.8140625434,8359455.885626795 L 629501.5969463944,8358925.466827306 L 629017.7727736066,8358176.195495011 L 628683.3629821326,8357756.216736254 L 628106.9351775717,8356934.114751429 L 627828.0102026184,8356532.189197731 L 627418.087061853,8355782.5745623745 L 626859.615783025,8354850.4093746375 L 626745.2341842949,8354154.2799669355 L 626574.2519735921,8353220.124617535 L 626866.3314125494,8352631.895670739 L 627156.1575436546,8351622.026618939 L 627041.9696042716,8350962.655537799 L 626467.7797000045,8350525.721506559 L 626060.4993215539,8350252.890709305 L 625724.5097239837,8349503.065035801 L 625408.3311076774,8349009.7864297815 L 625038.9381653336,8348920.066777475 L 624135.580525192,8349016.427302249 L 623437.3908940051,8349551.63886594 L 623437.3908940051,8349551.63886594 L 623382.5256202873,8349643.577799038 L 622980.1040573239,8350305.5816448275 z\" /></g></svg>"
      ],
      "text/plain": [
       "<POLYGON ((622980.104 8350305.582, 622260.127 8350199.281, 621578.355 835034...>"
      ]
     },
     "execution_count": 13,
     "metadata": {},
     "output_type": "execute_result"
    }
   ],
   "source": [
    "vorMesh.modelDis['limitGeometry']"
   ]
  },
  {
   "cell_type": "code",
   "execution_count": null,
   "id": "3d85e966",
   "metadata": {},
   "outputs": [],
   "source": [
    "#Generate point pair array\n",
    "vorMesh.generateOrgDistVertices()\n"
   ]
  },
  {
   "cell_type": "code",
   "execution_count": null,
   "id": "ae0409c3",
   "metadata": {},
   "outputs": [],
   "source": [
    "\n",
    "#Generate the point cloud and voronoi\n",
    "vorMesh.createPointCloud()\n",
    "vorMesh.generateVoronoi()\n"
   ]
  },
  {
   "cell_type": "code",
   "execution_count": null,
   "id": "dfea1115",
   "metadata": {},
   "outputs": [],
   "source": [
    "\n",
    "#Export generated voronoi mesh\n",
    "vorMesh.getVoronoiAsShp(outputPath='output')"
   ]
  },
  {
   "cell_type": "code",
   "execution_count": null,
   "id": "f6cb1a09",
   "metadata": {},
   "outputs": [],
   "source": [
    "#Export point data and voronoi polygons\n",
    "\n",
    "outPath = 'output'\n",
    "#Points\n",
    "# vorMesh.getPointsAsShp('vertexOrg',outPath+'/vertexOrg.shp')\n",
    "#vorMesh.getPointsAsShp('vertexDist',outPath+'/vertexDist.shp')\n",
    "# vorMesh.getPointsAsShp('vertexBuffer',outPath+'/vertexBuffer.shp')\n",
    "# vorMesh.getPointsAsShp('vertexMaxRef',outPath+'/vertexMaxRef.shp')\n",
    "# vorMesh.getPointsAsShp('vertexMinRef',outPath+'/vertexMinRef.shp')\n",
    "# vorMesh.getPointsAsShp('vertexTotal',outPath+'/vertexTotal.shp')\n",
    "#Polygons\n",
    "\n",
    "#vorMesh.getPolyAsShp('voronoiRegions',outPath+'/voronoiRegions.shp')\n"
   ]
  },
  {
   "cell_type": "code",
   "execution_count": null,
   "id": "c711ebc7",
   "metadata": {},
   "outputs": [],
   "source": [
    "plotOrgDistPoints(vorMesh)"
   ]
  },
  {
   "cell_type": "code",
   "execution_count": null,
   "id": "541947c7",
   "metadata": {},
   "outputs": [],
   "source": [
    "plotCirclesPoints(vorMesh)"
   ]
  },
  {
   "cell_type": "code",
   "execution_count": null,
   "id": "f2595f13",
   "metadata": {},
   "outputs": [],
   "source": [
    "plotKeyList(vorMesh, ['pointsMaxRefPoly'])"
   ]
  },
  {
   "cell_type": "code",
   "execution_count": null,
   "id": "c8c76e4f",
   "metadata": {},
   "outputs": [],
   "source": [
    "# Show the resulting voronoi mesh\n",
    "\n",
    "#open the mesh file\n",
    "mesh=gpd.read_file(outPath+'/'+vorMesh.modelDis['meshName']+'.shp')\n",
    "#plot the mesh\n",
    "mesh.plot(figsize=(35,25), fc='crimson', alpha=0.3, ec='teal')"
   ]
  },
  {
   "cell_type": "code",
   "execution_count": null,
   "id": "e1a14f5b",
   "metadata": {},
   "outputs": [],
   "source": [
    "#check mesh generation\n",
    "from mf6Voronoi.meshProperties import meshShape"
   ]
  },
  {
   "cell_type": "code",
   "execution_count": null,
   "id": "48b2422e",
   "metadata": {},
   "outputs": [],
   "source": [
    "# open the mesh file\n",
    "mesh=meshShape(outPath+'/'+vorMesh.modelDis['meshName']+'.shp')"
   ]
  },
  {
   "cell_type": "code",
   "execution_count": null,
   "id": "4592180f",
   "metadata": {},
   "outputs": [],
   "source": [
    "# get the list of vertices and cell2d data\n",
    "gridprops=mesh.get_gridprops_disv()"
   ]
  },
  {
   "cell_type": "code",
   "execution_count": null,
   "id": "13091288",
   "metadata": {},
   "outputs": [],
   "source": [
    "cell2d = gridprops['cell2d']           #cellid, cell centroid xy, vertex number and vertex id list\n",
    "vertices = gridprops['vertices']       #vertex id and xy coordinates\n",
    "ncpl = gridprops['ncpl']               #number of cells per layer\n",
    "nvert = gridprops['nvert']             #number of verts\n",
    "centroids=gridprops['centroids']  "
   ]
  },
  {
   "cell_type": "code",
   "execution_count": null,
   "id": "51bd82af",
   "metadata": {},
   "outputs": [],
   "source": [
    "#check or create an output folder\n",
    "jsonPath = (outPath+'/'+vorMesh.modelDis['meshName'])\n",
    "if os.path.isdir(jsonPath):\n",
    "    print('The output folder %s exists'%jsonPath)\n",
    "else:\n",
    "    os.mkdir(jsonPath)\n",
    "    print('The output folder %s has been generated.'%jsonPath)\n",
    "    \n",
    "mesh.save_properties(os.path.join(jsonPath,'disvDict.json'))"
   ]
  },
  {
   "cell_type": "code",
   "execution_count": null,
   "id": "4661f961",
   "metadata": {},
   "outputs": [],
   "source": []
  }
 ],
 "metadata": {
  "kernelspec": {
   "display_name": "Python 3",
   "language": "python",
   "name": "python3"
  },
  "language_info": {
   "codemirror_mode": {
    "name": "ipython",
    "version": 3
   },
   "file_extension": ".py",
   "mimetype": "text/x-python",
   "name": "python",
   "nbconvert_exporter": "python",
   "pygments_lexer": "ipython3",
   "version": "3.10.12"
  }
 },
 "nbformat": 4,
 "nbformat_minor": 5
}
