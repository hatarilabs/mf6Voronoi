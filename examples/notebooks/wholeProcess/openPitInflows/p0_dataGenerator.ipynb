{
 "cells": [
  {
   "cell_type": "code",
   "execution_count": 2,
   "id": "e0da9848-4437-4ed5-ae33-5e7ff42adc5a",
   "metadata": {},
   "outputs": [],
   "source": [
    "#!pip install -U mf6Voronoi"
   ]
  },
  {
   "cell_type": "code",
   "execution_count": 4,
   "id": "f82ca951",
   "metadata": {},
   "outputs": [],
   "source": [
    "from mf6Voronoi.utils import copyTemplate, listTemplates"
   ]
  },
  {
   "cell_type": "code",
   "execution_count": 5,
   "id": "1cf74ad8-720c-47d1-b9e6-0071b606fbe8",
   "metadata": {},
   "outputs": [
    {
     "name": "stdout",
     "output_type": "stream",
     "text": [
      "/-------- List of available mf6Voronoi templates --------/\n",
      "\n",
      "Nr 1: generateVoronoi\n",
      "    File: p1_generateVoronoi.ipynb\n",
      "    Description: Template for Voronoi mesh generation\n",
      "\n",
      "Nr 2: modelCreation\n",
      "    File: p2_modelCreation.ipynb\n",
      "    Description: Template for regional model creation on steady state\n",
      "\n",
      "Nr 3: obsCalculated\n",
      "    File: p3_obsCalculated.ipynb\n",
      "    Description: Template for comparison between observed and calculated\n",
      "\n",
      "Nr 4: vtkGeneration\n",
      "    File: p4_vtkGeneration.ipynb\n",
      "    Description: Template for 3d geometry generation on Vtk format\n",
      "\n",
      "Nr 5: multilayeredTransient\n",
      "    File: p5_multilayeredTransient.ipynb\n",
      "    Description: Template for multilayeres (15 layers) and transient (6 stress periods) regional model\n",
      "\n"
     ]
    }
   ],
   "source": [
    "listTemplates()"
   ]
  },
  {
   "cell_type": "code",
   "execution_count": 6,
   "id": "9b6ec4e7-982c-421e-8914-d1a8077e2cc8",
   "metadata": {},
   "outputs": [],
   "source": [
    "copyTemplate('generateVoronoi','openPit')\n",
    "copyTemplate('multilayeredTransient','openPit')\n",
    "copyTemplate('vtkGeneration','openPit')"
   ]
  },
  {
   "cell_type": "code",
   "execution_count": null,
   "id": "6ad26a9a",
   "metadata": {},
   "outputs": [],
   "source": []
  }
 ],
 "metadata": {
  "kernelspec": {
   "display_name": "Python 3 (ipykernel)",
   "language": "python",
   "name": "python3"
  },
  "language_info": {
   "codemirror_mode": {
    "name": "ipython",
    "version": 3
   },
   "file_extension": ".py",
   "mimetype": "text/x-python",
   "name": "python",
   "nbconvert_exporter": "python",
   "pygments_lexer": "ipython3",
   "version": "3.12.7"
  }
 },
 "nbformat": 4,
 "nbformat_minor": 5
}
