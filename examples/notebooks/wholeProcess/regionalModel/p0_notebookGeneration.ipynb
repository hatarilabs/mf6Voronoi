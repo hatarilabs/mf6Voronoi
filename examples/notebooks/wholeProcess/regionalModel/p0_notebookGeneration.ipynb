{
 "cells": [
  {
   "cell_type": "code",
   "execution_count": 1,
   "id": "506f8765",
   "metadata": {},
   "outputs": [],
   "source": [
    "from mf6Voronoi.utils import listTemplates, copyTemplate"
   ]
  },
  {
   "cell_type": "code",
   "execution_count": 2,
   "id": "ce214cff",
   "metadata": {},
   "outputs": [
    {
     "name": "stdout",
     "output_type": "stream",
     "text": [
      "/-------- List of available mf6Voronoi templates --------/\n",
      "\n",
      "Nr 1: generateVoronoi\n",
      "    File: p1_generateVoronoi.ipynb\n",
      "    Description: Template for Voronoi mesh generation\n",
      "\n",
      "Nr 2: modelCreation\n",
      "    File: p2_modelCreation.ipynb\n",
      "    Description: Template for regional model creation on steady state\n",
      "\n",
      "Nr 3: obsCalculated\n",
      "    File: p3_obsCalculated.ipynb\n",
      "    Description: Template for comparison between observed and calculated\n",
      "\n",
      "Nr 4: vtkGeneration\n",
      "    File: p4_vtkGeneration.ipynb\n",
      "    Description: Template for 3d geometry generation on Vtk format\n",
      "\n",
      "Nr 5: multilayeredTransient\n",
      "    File: p5_multilayeredTransient.ipynb\n",
      "    Description: Template for multilayeres (15 layers) and transient (6 stress periods) regional model\n",
      "\n"
     ]
    }
   ],
   "source": [
    "listTemplates()"
   ]
  },
  {
   "cell_type": "code",
   "execution_count": 4,
   "id": "04abf690",
   "metadata": {},
   "outputs": [],
   "source": [
    "copyTemplate('generateVoronoi','regMod')"
   ]
  },
  {
   "cell_type": "code",
   "execution_count": 5,
   "id": "e56c9f2d",
   "metadata": {},
   "outputs": [],
   "source": [
    "copyTemplate('modelCreation','regMod')"
   ]
  },
  {
   "cell_type": "code",
   "execution_count": 6,
   "id": "640b0a46",
   "metadata": {},
   "outputs": [],
   "source": [
    "copyTemplate('vtkGeneration','regMod')"
   ]
  },
  {
   "cell_type": "code",
   "execution_count": null,
   "id": "37b1f392",
   "metadata": {},
   "outputs": [],
   "source": []
  }
 ],
 "metadata": {
  "kernelspec": {
   "display_name": "Python 3",
   "language": "python",
   "name": "python3"
  },
  "language_info": {
   "codemirror_mode": {
    "name": "ipython",
    "version": 3
   },
   "file_extension": ".py",
   "mimetype": "text/x-python",
   "name": "python",
   "nbconvert_exporter": "python",
   "pygments_lexer": "ipython3",
   "version": "3.12.3"
  }
 },
 "nbformat": 4,
 "nbformat_minor": 5
}
