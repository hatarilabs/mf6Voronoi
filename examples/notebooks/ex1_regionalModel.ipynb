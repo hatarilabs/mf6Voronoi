{
 "cells": [
  {
   "cell_type": "markdown",
   "id": "cd404f9d",
   "metadata": {},
   "source": [
    "### Part 1 : Voronoi mesh generation"
   ]
  },
  {
   "cell_type": "code",
   "execution_count": 1,
   "id": "472dc38b",
   "metadata": {},
   "outputs": [],
   "source": [
    "import warnings\n",
    "warnings.filterwarnings('ignore')\n",
    "\n",
    "import os\n",
    "import geopandas as gpd\n",
    "from mf6Voronoi.geoVoronoi import createVoronoi\n",
    "from mf6Voronoi.geoUtils import plotOrgDistPoints, plotCirclesPoints, plotKeyList"
   ]
  },
  {
   "cell_type": "code",
   "execution_count": 2,
   "id": "92371852",
   "metadata": {},
   "outputs": [],
   "source": [
    "#Create mesh object specifying the coarse mesh and the multiplier\n",
    "vorMesh = createVoronoi(meshName='regionalModel',maxRef = 500, multiplier=1.5)\n",
    "\n",
    "#Open limit layers and refinement definition layers\n",
    "vorMesh.addLimit('basin','../../examples/regionalModel/shp/Angascancha_Basin_Extension.shp')\n",
    "vorMesh.addLayer('river','../../examples/regionalModel/shp/rios.shp',50)\n"
   ]
  },
  {
   "cell_type": "code",
   "execution_count": 3,
   "id": "3d85e966",
   "metadata": {},
   "outputs": [
    {
     "name": "stdout",
     "output_type": "stream",
     "text": [
      "\n",
      "                                                                                                                                                     \n",
      "    _7L!                                                                           \"c\\.    vLL|                      -oL[                             \n",
      "    ^MQG                                /{o'                                      ;&QB>    uQQI                      ,WQY                             \n",
      "    ^DQg                                4QM:                                       ^v\".    LQQ*                      :KQG                             \n",
      "    ^DQX%#gXPdCl      ^[fhXGXVfI:     [qKQRhqqq%    )e2dPGggTl`      LFy;I54PEl ;6q52u     LQQ*      )e2dPGggTl`     :KQktF4PXSu%`     '?y4PXV2o:     \n",
      "    ^DQNGw[ItmQQg'    /P4#a]tfKQ&i    v1AQNz111\"    cOSu1]epMQX^     GQ0O4zI17_ 'oLMQ&.    LQQ*      cOSu1]epMQX^    :KQB6oI!LhMQbs   ,YQM#?Iepq_     \n",
      "    ^DQG.     LQQ[        _=\"/rWQE      EQD:            '=\"/7QQn     XQ0o          UQk.    LQQ*          '=\"/7QQT    :KQG      \"GQRr  ;$QBl`          \n",
      "    ^DQg      *QQj    `{pA&YPXPMQk      EQB^        ,1h&&bXXbQQ5     XQD,         _UQk.    LQQ*      ,1h&&bXXbQQ5    :KQG       sQQS   +#YWKGy};      \n",
      "    ^DQg      IQQj   ^XQKe\"-  :@QY      gQB;       v8Qb}^`  iQQ5     XQD;         _UQk.    LQQ{     v8Qb}^`  iQQ5    :KQG       ?QQf      +{J&QKz     \n",
      "    ^DQg      IQQj   IQQn     iWQk      VQRc       3QQc    .1QQ5     XQD;         _UQk.    7QQL     3QQl    .1QQ5    :KQY`    .i8Q&/   ;=    =DQW:    \n",
      "    ^NQG      ?QQL   'FWMVfJ5XbPQQ7`    >bQMd5F4i  \"ERHmwC6GPOQHs    GQN^         _KQ&.    =4RQY5-  \"ERHmwC6GPOQHs   ,WQ@Oh5FhOR@f^   _XWYS5mAQ$e     \n",
      "    -I!c      =!!)     \"?u#L1%_.caj'     `veTTLa\"    <1TTj!<.'{7t    l!I-         .*!s       \\?jz`    <1TTj!<.'{7t   -7],vtn#L[i'     .)sen#ut%:      \n",
      "\n",
      "\n",
      "\n",
      "/--------Layer river discretization-------/\n",
      "Progressive cell size list: [50, 125.0, 237.5, 406.25] m.\n",
      "\n",
      "/----Sumary of points for voronoi meshing----/\n",
      "Distributed points from layers: 1\n",
      "Points from layer buffers: 15445\n",
      "Points from max refinement areas: 557\n",
      "Points from min refinement areas: 0\n",
      "Total points inside the limit: 19351\n",
      "/--------------------------------------------/\n",
      "\n",
      "Time required for point generation: 4.47 seconds \n",
      "\n",
      "\n",
      "/----Generation of the voronoi mesh----/\n",
      "\n",
      "Time required for voronoi generation: 0.84 seconds \n",
      "\n"
     ]
    }
   ],
   "source": [
    "#Generate point pair array\n",
    "vorMesh.generateOrgDistVertices()\n",
    "\n",
    "#Generate the point cloud and voronoi\n",
    "vorMesh.createPointCloud()\n",
    "vorMesh.generateVoronoi()\n"
   ]
  },
  {
   "cell_type": "code",
   "execution_count": null,
   "id": "dfea1115",
   "metadata": {},
   "outputs": [],
   "source": [
    "\n",
    "#Export generated voronoi mesh\n",
    "vorMesh.getVoronoiAsShp(outputPath='output')"
   ]
  },
  {
   "cell_type": "code",
   "execution_count": null,
   "id": "f6cb1a09",
   "metadata": {},
   "outputs": [],
   "source": [
    "#Export point data and voronoi polygons\n",
    "\n",
    "outPath = 'output'\n",
    "#Points\n",
    "# vorMesh.getPointsAsShp('vertexOrg',outPath+'/vertexOrg.shp')\n",
    "#vorMesh.getPointsAsShp('vertexDist',outPath+'/vertexDist.shp')\n",
    "# vorMesh.getPointsAsShp('vertexBuffer',outPath+'/vertexBuffer.shp')\n",
    "# vorMesh.getPointsAsShp('vertexMaxRef',outPath+'/vertexMaxRef.shp')\n",
    "# vorMesh.getPointsAsShp('vertexMinRef',outPath+'/vertexMinRef.shp')\n",
    "# vorMesh.getPointsAsShp('vertexTotal',outPath+'/vertexTotal.shp')\n",
    "#Polygons\n",
    "\n",
    "#vorMesh.getPolyAsShp('voronoiRegions',outPath+'/voronoiRegions.shp')\n"
   ]
  },
  {
   "cell_type": "code",
   "execution_count": null,
   "id": "c711ebc7",
   "metadata": {},
   "outputs": [],
   "source": [
    "plotOrgDistPoints(vorMesh)"
   ]
  },
  {
   "cell_type": "code",
   "execution_count": null,
   "id": "541947c7",
   "metadata": {},
   "outputs": [],
   "source": [
    "plotCirclesPoints(vorMesh)"
   ]
  },
  {
   "cell_type": "code",
   "execution_count": null,
   "id": "f2595f13",
   "metadata": {},
   "outputs": [],
   "source": [
    "plotKeyList(vorMesh, ['pointsMaxRefPoly'])"
   ]
  },
  {
   "cell_type": "code",
   "execution_count": null,
   "id": "c8c76e4f",
   "metadata": {},
   "outputs": [],
   "source": [
    "# Show the resulting voronoi mesh\n",
    "\n",
    "#open the mesh file\n",
    "mesh=gpd.read_file(outPath+'/'+vorMesh.modelDis['meshName']+'.shp')\n",
    "#plot the mesh\n",
    "mesh.plot(figsize=(35,25), fc='crimson', alpha=0.3, ec='teal')"
   ]
  },
  {
   "cell_type": "code",
   "execution_count": null,
   "id": "e1a14f5b",
   "metadata": {},
   "outputs": [],
   "source": [
    "#check mesh generation\n",
    "from mf6Voronoi.meshProperties import meshShape"
   ]
  },
  {
   "cell_type": "code",
   "execution_count": null,
   "id": "48b2422e",
   "metadata": {},
   "outputs": [],
   "source": [
    "# open the mesh file\n",
    "mesh=meshShape(outPath+'/'+vorMesh.modelDis['meshName']+'.shp')"
   ]
  },
  {
   "cell_type": "code",
   "execution_count": null,
   "id": "4592180f",
   "metadata": {},
   "outputs": [],
   "source": [
    "# get the list of vertices and cell2d data\n",
    "gridprops=mesh.get_gridprops_disv()"
   ]
  },
  {
   "cell_type": "code",
   "execution_count": null,
   "id": "13091288",
   "metadata": {},
   "outputs": [],
   "source": [
    "cell2d = gridprops['cell2d']           #cellid, cell centroid xy, vertex number and vertex id list\n",
    "vertices = gridprops['vertices']       #vertex id and xy coordinates\n",
    "ncpl = gridprops['ncpl']               #number of cells per layer\n",
    "nvert = gridprops['nvert']             #number of verts\n",
    "centroids=gridprops['centroids']  "
   ]
  },
  {
   "cell_type": "code",
   "execution_count": null,
   "id": "51bd82af",
   "metadata": {},
   "outputs": [],
   "source": [
    "#check or create an output folder\n",
    "jsonPath = (outPath+'/'+vorMesh.modelDis['meshName'])\n",
    "if os.path.isdir(jsonPath):\n",
    "    print('The output folder %s exists'%jsonPath)\n",
    "else:\n",
    "    os.mkdir(jsonPath)\n",
    "    print('The output folder %s has been generated.'%jsonPath)\n",
    "    \n",
    "mesh.save_properties(os.path.join(jsonPath,'disvDict.json'))"
   ]
  },
  {
   "cell_type": "code",
   "execution_count": null,
   "id": "4661f961",
   "metadata": {},
   "outputs": [],
   "source": []
  }
 ],
 "metadata": {
  "kernelspec": {
   "display_name": "Python 3",
   "language": "python",
   "name": "python3"
  },
  "language_info": {
   "codemirror_mode": {
    "name": "ipython",
    "version": 3
   },
   "file_extension": ".py",
   "mimetype": "text/x-python",
   "name": "python",
   "nbconvert_exporter": "python",
   "pygments_lexer": "ipython3",
   "version": "3.10.12"
  }
 },
 "nbformat": 4,
 "nbformat_minor": 5
}
