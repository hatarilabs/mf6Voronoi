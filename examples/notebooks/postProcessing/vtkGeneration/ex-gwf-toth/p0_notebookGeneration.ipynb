{
 "cells": [
  {
   "cell_type": "code",
   "execution_count": null,
   "id": "2f05eb7e",
   "metadata": {},
   "outputs": [],
   "source": [
    "from mf6Voronoi.utils import listTemplates, copyTemplate"
   ]
  },
  {
   "cell_type": "code",
   "execution_count": null,
   "id": "9564c6f5",
   "metadata": {},
   "outputs": [],
   "source": [
    "listTemplates()"
   ]
  },
  {
   "cell_type": "code",
   "execution_count": null,
   "id": "35edf85b",
   "metadata": {},
   "outputs": [],
   "source": [
    "copyTemplate('vtkGeneration', prefix = 'auxGeom')"
   ]
  },
  {
   "cell_type": "code",
   "execution_count": null,
   "id": "26db6eb7",
   "metadata": {},
   "outputs": [],
   "source": []
  }
 ],
 "metadata": {
  "kernelspec": {
   "display_name": "Python 3",
   "language": "python",
   "name": "python3"
  },
  "language_info": {
   "codemirror_mode": {
    "name": "ipython",
    "version": 3
   },
   "file_extension": ".py",
   "mimetype": "text/x-python",
   "name": "python",
   "nbconvert_exporter": "python",
   "pygments_lexer": "ipython3",
   "version": "3.12.3"
  }
 },
 "nbformat": 4,
 "nbformat_minor": 5
}
