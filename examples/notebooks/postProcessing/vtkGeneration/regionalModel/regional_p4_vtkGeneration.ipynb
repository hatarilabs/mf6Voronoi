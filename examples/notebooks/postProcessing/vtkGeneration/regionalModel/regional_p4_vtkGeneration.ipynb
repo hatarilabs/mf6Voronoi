{
 "cells": [
  {
   "cell_type": "code",
   "execution_count": 1,
   "id": "b5456407-e3fb-4f43-aa78-fb5523ab3b00",
   "metadata": {},
   "outputs": [],
   "source": [
    "#Vtk generation\n",
    "import flopy ## Org\n",
    "from mf6Voronoi.tools.vtkGen import Mf6VtkGenerator ## Org\n",
    "from mf6Voronoi.utils import initiateOutputFolder ## Org"
   ]
  },
  {
   "cell_type": "code",
   "execution_count": 2,
   "id": "afdd989d-8049-4003-9a5e-4484d4566b52",
   "metadata": {},
   "outputs": [
    {
     "name": "stdout",
     "output_type": "stream",
     "text": [
      "loading simulation...\n",
      "  loading simulation name file...\n",
      "  loading tdis package...\n",
      "  loading model gwf6...\n",
      "    loading package disv...\n",
      "    loading package ic...\n",
      "    loading package npf...\n",
      "    loading package sto...\n",
      "    loading package rch...\n",
      "    loading package evt...\n",
      "    loading package drn...\n",
      "    loading package oc...\n",
      "  loading solution package mf6model...\n"
     ]
    }
   ],
   "source": [
    "# load simulation\n",
    "simName = 'mf6Sim' ## Org\n",
    "modelName = 'mf6Model' ## Org\n",
    "modelWs = 'modelFiles' ## Org\n",
    "sim = flopy.mf6.MFSimulation.load(sim_name=modelName, version='mf6', ## Org\n",
    "                             exe_name='bin/mf6.exe', ## Org\n",
    "                             sim_ws=modelWs) ## Org"
   ]
  },
  {
   "cell_type": "code",
   "execution_count": 3,
   "id": "cc644b24-0172-4ae6-890f-0641a1028434",
   "metadata": {},
   "outputs": [
    {
     "name": "stdout",
     "output_type": "stream",
     "text": [
      "The output folder vtk exists and has been cleared\n",
      "\n",
      " Models in simulation: ['mf6model']\n"
     ]
    }
   ],
   "source": [
    "vtkDir = 'vtk' ## Org\n",
    "initiateOutputFolder(vtkDir) ## Org\n",
    "\n",
    "mf6Vtk = Mf6VtkGenerator(sim, vtkDir) ## Org\n",
    "mf6Vtk.listModels() ## Org"
   ]
  },
  {
   "cell_type": "code",
   "execution_count": 4,
   "id": "bb5633e9-e613-4960-b4f7-7bb639e99fa5",
   "metadata": {},
   "outputs": [
    {
     "name": "stdout",
     "output_type": "stream",
     "text": [
      "Package list: ['DISV', 'IC', 'NPF', 'STO', 'RCHA_0', 'EVTA_0', 'DRN_0', 'OC']\n"
     ]
    }
   ],
   "source": [
    "mf6Vtk.loadModel(modelName) ## Org"
   ]
  },
  {
   "cell_type": "code",
   "execution_count": 5,
   "id": "d91089b0-6a14-439a-882b-e6766a3706c7",
   "metadata": {},
   "outputs": [
    {
     "data": {
      "text/plain": [
       "[(0, 0)]"
      ]
     },
     "execution_count": 5,
     "metadata": {},
     "output_type": "execute_result"
    }
   ],
   "source": [
    "#show output data\n",
    "headObj = mf6Vtk.gwf.output.head() ## Org\n",
    "headObj.get_kstpkper() ## Org"
   ]
  },
  {
   "cell_type": "code",
   "execution_count": 9,
   "id": "39feff43-c935-42e4-bbd3-7d6b87290562",
   "metadata": {},
   "outputs": [],
   "source": [
    "#generate model geometry as vtk and parameter array\n",
    "mf6Vtk.generateGeometryArrays() ## Org"
   ]
  },
  {
   "cell_type": "code",
   "execution_count": 10,
   "id": "3e92a380-268c-4689-b258-ec54e25cb309",
   "metadata": {},
   "outputs": [
    {
     "name": "stdout",
     "output_type": "stream",
     "text": [
      "Parameter Vtk Generated\n"
     ]
    }
   ],
   "source": [
    "#generate parameter vtk\n",
    "mf6Vtk.generateParamVtk() ## Org"
   ]
  },
  {
   "cell_type": "code",
   "execution_count": 11,
   "id": "cf02427f-c9e4-4070-b73b-5e059211249e",
   "metadata": {},
   "outputs": [
    {
     "name": "stdout",
     "output_type": "stream",
     "text": [
      "RCHA_0\n",
      "EVTA_0\n",
      "DRN_0\n",
      "Working for DRN_0 package, creating the datasets: ('elev', 'cond')\n",
      "... 0 cells generated\n",
      "... 500 cells generated\n",
      "... 1000 cells generated\n",
      "Vtk file took 13.4429 seconds to be generated.\n",
      "DRN_0 vtk generated\n"
     ]
    }
   ],
   "source": [
    "#generate bc and obs vtk\n",
    "mf6Vtk.generateBcObsVtk(nper=0) ## Org"
   ]
  },
  {
   "cell_type": "code",
   "execution_count": 12,
   "id": "ead72765-89c9-4dd0-bb64-04686c7d3197",
   "metadata": {},
   "outputs": [],
   "source": [
    "mf6Vtk.generateHeadVtk(nper=0, crop=True) ## Org"
   ]
  },
  {
   "cell_type": "code",
   "execution_count": 13,
   "id": "5f7a8869-81db-459c-abe3-78c17dcc72c9",
   "metadata": {},
   "outputs": [],
   "source": [
    "mf6Vtk.generateWaterTableVtk(nper=0) ## Org"
   ]
  },
  {
   "cell_type": "code",
   "execution_count": null,
   "id": "96e161ca",
   "metadata": {},
   "outputs": [],
   "source": []
  }
 ],
 "metadata": {
  "kernelspec": {
   "display_name": "Python 3",
   "language": "python",
   "name": "python3"
  },
  "language_info": {
   "codemirror_mode": {
    "name": "ipython",
    "version": 3
   },
   "file_extension": ".py",
   "mimetype": "text/x-python",
   "name": "python",
   "nbconvert_exporter": "python",
   "pygments_lexer": "ipython3",
   "version": "3.12.3"
  }
 },
 "nbformat": 4,
 "nbformat_minor": 5
}
