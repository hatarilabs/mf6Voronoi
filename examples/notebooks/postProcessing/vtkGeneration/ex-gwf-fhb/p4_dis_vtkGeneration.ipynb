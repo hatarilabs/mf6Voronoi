{
 "cells": [
  {
   "cell_type": "code",
   "execution_count": 1,
   "id": "b5456407-e3fb-4f43-aa78-fb5523ab3b00",
   "metadata": {},
   "outputs": [],
   "source": [
    "#Vtk generation\n",
    "import flopy, os ## Org\n",
    "from mf6Voronoi.tools.vtkGen import Mf6VtkGenerator ## Org\n",
    "from mf6Voronoi.utils import initiateOutputFolder ## Org"
   ]
  },
  {
   "cell_type": "code",
   "execution_count": 2,
   "id": "afdd989d-8049-4003-9a5e-4484d4566b52",
   "metadata": {},
   "outputs": [],
   "source": [
    "# load simulation\n",
    "simName = 'mf6Sim' ## Org\n",
    "modelName = 'mf6Model' ## Org\n",
    "modelWs = os.path.abspath('../../../../mf6models/ex-gwf-fhb') ## Org"
   ]
  },
  {
   "cell_type": "code",
   "execution_count": 3,
   "id": "b3f49573",
   "metadata": {},
   "outputs": [
    {
     "name": "stdout",
     "output_type": "stream",
     "text": [
      "loading simulation...\n",
      "  loading simulation name file...\n",
      "  loading tdis package...\n",
      "  loading model gwf6...\n",
      "    loading package dis...\n",
      "    loading package npf...\n",
      "    loading package ic...\n",
      "    loading package sto...\n",
      "    loading package chd...\n",
      "    loading package wel...\n",
      "    loading package oc...\n",
      "    loading package obs...\n",
      "  loading solution package ex-gwf-fhb...\n"
     ]
    }
   ],
   "source": [
    "sim = flopy.mf6.MFSimulation.load(sim_name=modelName, version='mf6', ## Org\n",
    "                             exe_name='../../../../bin/mf6', ## Org\n",
    "                             sim_ws=modelWs) ## Org"
   ]
  },
  {
   "cell_type": "code",
   "execution_count": 4,
   "id": "ede7da49",
   "metadata": {},
   "outputs": [],
   "source": [
    "sim.set_sim_path('modelFiles')"
   ]
  },
  {
   "cell_type": "code",
   "execution_count": 5,
   "id": "498770eb",
   "metadata": {},
   "outputs": [
    {
     "name": "stdout",
     "output_type": "stream",
     "text": [
      "writing simulation...\n",
      "  writing simulation name file...\n",
      "  writing simulation tdis package...\n",
      "  writing solution package ex-gwf-fhb...\n",
      "  writing model ex-gwf-fhb...\n",
      "    writing model name file...\n",
      "    writing package dis...\n",
      "    writing package npf...\n",
      "    writing package ic...\n",
      "    writing package sto...\n",
      "    writing package chd_ts...\n",
      "    writing package chd...\n",
      "    writing package wel_ts...\n",
      "    writing package wel...\n",
      "    writing package oc...\n",
      "    writing package obs_0...\n",
      "FloPy is using the following executable to run the model: ../../../../../bin/mf6\n",
      "                                   MODFLOW 6\n",
      "                U.S. GEOLOGICAL SURVEY MODULAR HYDROLOGIC MODEL\n",
      "                            VERSION 6.6.0 12/20/2024\n",
      "\n",
      "   MODFLOW 6 compiled Dec 31 2024 17:08:41 with Intel(R) Fortran Intel(R) 64\n",
      "   Compiler Classic for applications running on Intel(R) 64, Version 2021.7.0\n",
      "                             Build 20220726_000000\n",
      "\n",
      "This software has been approved for release by the U.S. Geological \n",
      "Survey (USGS). Although the software has been subjected to rigorous \n",
      "review, the USGS reserves the right to update the software as needed \n",
      "pursuant to further analysis and review. No warranty, expressed or \n",
      "implied, is made by the USGS or the U.S. Government as to the \n",
      "functionality of the software and related material nor shall the \n",
      "fact of release constitute any such warranty. Furthermore, the \n",
      "software is released on condition that neither the USGS nor the U.S. \n",
      "Government shall be held liable for any damages resulting from its \n",
      "authorized or unauthorized use. Also refer to the USGS Water \n",
      "Resources Software User Rights Notice for complete use, copyright, \n",
      "and distribution information.\n",
      "\n",
      " \n",
      " MODFLOW runs in SEQUENTIAL mode\n",
      " \n",
      " Run start date and time (yyyy/mm/dd hh:mm:ss): 2025/06/04 15:18:48\n",
      " \n",
      " Writing simulation list file: mfsim.lst\n",
      " Using Simulation name file: mfsim.nam\n",
      " \n",
      "    Solving:  Stress period:     1    Time step:     1\n",
      "    Solving:  Stress period:     1    Time step:     2\n",
      "    Solving:  Stress period:     1    Time step:     3\n",
      "    Solving:  Stress period:     1    Time step:     4\n",
      "    Solving:  Stress period:     1    Time step:     5\n",
      "    Solving:  Stress period:     1    Time step:     6\n",
      "    Solving:  Stress period:     1    Time step:     7\n",
      "    Solving:  Stress period:     1    Time step:     8\n",
      "    Solving:  Stress period:     1    Time step:     9\n",
      "    Solving:  Stress period:     1    Time step:    10\n",
      "    Solving:  Stress period:     2    Time step:     1\n",
      "    Solving:  Stress period:     2    Time step:     2\n",
      "    Solving:  Stress period:     2    Time step:     3\n",
      "    Solving:  Stress period:     2    Time step:     4\n",
      "    Solving:  Stress period:     3    Time step:     1\n",
      "    Solving:  Stress period:     3    Time step:     2\n",
      "    Solving:  Stress period:     3    Time step:     3\n",
      "    Solving:  Stress period:     3    Time step:     4\n",
      "    Solving:  Stress period:     3    Time step:     5\n",
      "    Solving:  Stress period:     3    Time step:     6\n",
      " \n",
      " Run end date and time (yyyy/mm/dd hh:mm:ss): 2025/06/04 15:18:49\n",
      " Elapsed run time:  0.845 Seconds\n",
      " \n",
      " Normal termination of simulation.\n"
     ]
    },
    {
     "data": {
      "text/plain": [
       "(True, [])"
      ]
     },
     "execution_count": 5,
     "metadata": {},
     "output_type": "execute_result"
    }
   ],
   "source": [
    "sim.write_simulation()\n",
    "sim.run_simulation()"
   ]
  },
  {
   "cell_type": "code",
   "execution_count": 6,
   "id": "cc644b24-0172-4ae6-890f-0641a1028434",
   "metadata": {},
   "outputs": [
    {
     "name": "stdout",
     "output_type": "stream",
     "text": [
      "The output folder vtk has been generated.\n"
     ]
    },
    {
     "data": {
      "text/html": [
       "\n",
       "    <link href=\"https://fonts.googleapis.com/css2?family=Anton&display=swap\" rel=\"stylesheet\">\n",
       "\n",
       "    <style>\n",
       "        .styled-text {\n",
       "        font-family: 'Anton', Impact, sans-serif;\n",
       "        font-size: 32px;\n",
       "        font-weight: bold;\n",
       "        font-style: italic;\n",
       "        }\n",
       "    </style>\n",
       "\n",
       "    <div>\n",
       "    <a href=\"https://hatarilabs.com\" target=\"_blank\">\n",
       "            <img src=\"https://olivosbellaterra.com/static/img/png/hatarilabs.png\" alt=\"Hatarilabs\" width=\"200\" height=\"200\"></a> \n",
       "            <p class=\"styled-text\">build faster, analyze more</p>\n",
       "    </div>\n",
       "\n",
       "    <table border=\"0px\">\n",
       "    <tbody>\n",
       "    <tr>\n",
       "        <td><h3>Follow us:</h3></td>\n",
       "        <td><a href=\"https://www.linkedin.com/company/hatarilabs\" target=\"_blank\">\n",
       "            <img src=\"https://olivosbellaterra.com/static/img/svg/icons8-linkedin.svg\" alt=\"Hatarilabs\"></a></td>\n",
       "        <td><a href=\"https://www.facebook.com/hatarilabs\" target=\"_blank\">\n",
       "            <img src=\"https://olivosbellaterra.com/static/img/svg/icons8-facebook.svg\" alt=\"Hatarilabs\"></a></td>\n",
       "        <td><a href=\"https://www.instagram.com/hatarilabs\" target=\"_blank\">\n",
       "            <img src=\"https://olivosbellaterra.com/static/img/svg/icons8-instagram.svg\" alt=\"Hatarilabs\"></a></td>\n",
       "        <td><a href=\"https://www.youtube.com/hatarilabs\" target=\"_blank\">\n",
       "            <img src=\"https://olivosbellaterra.com/static/img/svg/icons8-youtube.svg\" alt=\"Hatarilabs\"></a></td>\n",
       "        <td><a href=\"https://www.tiktok.com/@_hatarilabs\" target=\"_blank\">\n",
       "            <img src=\"https://olivosbellaterra.com/static/img/svg/icons8-tiktok.svg\" alt=\"Hatarilabs\"></a></td>\n",
       "        <td><a href=\"https://x.com/hatarilabs\" target=\"_blank\">\n",
       "            <img src=\"https://olivosbellaterra.com/static/img/svg/icons8-twitterx.svg\" alt=\"Hatarilabs\"></a></td>\n",
       "    </tr>\n",
       "    </tbody>\n",
       "    </table>\n",
       "\n",
       "    "
      ],
      "text/plain": [
       "<IPython.core.display.HTML object>"
      ]
     },
     "metadata": {},
     "output_type": "display_data"
    },
    {
     "name": "stdout",
     "output_type": "stream",
     "text": [
      "\n",
      "/---------------------------------------/\n",
      "\n",
      "The Vtk generator engine has been started\n",
      "\n",
      "/---------------------------------------/\n"
     ]
    }
   ],
   "source": [
    "vtkDir = 'vtk' ## Org\n",
    "initiateOutputFolder(vtkDir) ## Org\n",
    "\n",
    "mf6Vtk = Mf6VtkGenerator(sim, vtkDir) ## Org\n"
   ]
  },
  {
   "cell_type": "code",
   "execution_count": 7,
   "id": "77a406cd",
   "metadata": {},
   "outputs": [
    {
     "name": "stdout",
     "output_type": "stream",
     "text": [
      "\n",
      " Models in simulation: ['ex-gwf-fhb']\n"
     ]
    }
   ],
   "source": [
    "mf6Vtk.listModels() ## Org"
   ]
  },
  {
   "cell_type": "code",
   "execution_count": 9,
   "id": "bb5633e9-e613-4960-b4f7-7bb639e99fa5",
   "metadata": {},
   "outputs": [
    {
     "name": "stdout",
     "output_type": "stream",
     "text": [
      "Package list: ['DIS', 'NPF', 'IC', 'STO', 'CHD_TS', 'CHD', 'WEL_TS', 'WEL', 'OC', 'OBS_0']\n"
     ]
    }
   ],
   "source": [
    "mf6Vtk.loadModel('ex-gwf-fhb') ## Org"
   ]
  },
  {
   "cell_type": "code",
   "execution_count": 10,
   "id": "d91089b0-6a14-439a-882b-e6766a3706c7",
   "metadata": {},
   "outputs": [
    {
     "data": {
      "text/plain": [
       "[(0, 0),\n",
       " (1, 0),\n",
       " (2, 0),\n",
       " (3, 0),\n",
       " (4, 0),\n",
       " (5, 0),\n",
       " (6, 0),\n",
       " (7, 0),\n",
       " (8, 0),\n",
       " (9, 0),\n",
       " (0, 1),\n",
       " (1, 1),\n",
       " (2, 1),\n",
       " (3, 1),\n",
       " (0, 2),\n",
       " (1, 2),\n",
       " (2, 2),\n",
       " (3, 2),\n",
       " (4, 2),\n",
       " (5, 2)]"
      ]
     },
     "execution_count": 10,
     "metadata": {},
     "output_type": "execute_result"
    }
   ],
   "source": [
    "#show output data\n",
    "headObj = mf6Vtk.gwf.output.head() ## Org\n",
    "headObj.get_kstpkper() ## Org"
   ]
  },
  {
   "cell_type": "code",
   "execution_count": 11,
   "id": "39feff43-c935-42e4-bbd3-7d6b87290562",
   "metadata": {},
   "outputs": [],
   "source": [
    "#generate model geometry as vtk and parameter array\n",
    "mf6Vtk.generateGeometryArrays() ## Org"
   ]
  },
  {
   "cell_type": "code",
   "execution_count": 12,
   "id": "3e92a380-268c-4689-b258-ec54e25cb309",
   "metadata": {},
   "outputs": [
    {
     "name": "stdout",
     "output_type": "stream",
     "text": [
      "Parameter Vtk Generated\n"
     ]
    }
   ],
   "source": [
    "#generate parameter vtk\n",
    "mf6Vtk.generateParamVtk() ## Org"
   ]
  },
  {
   "cell_type": "code",
   "execution_count": 18,
   "id": "cf02427f-c9e4-4070-b73b-5e059211249e",
   "metadata": {},
   "outputs": [],
   "source": [
    "#generate bc and obs vtk\n",
    "mf6Vtk.generateBcObsVtk(nper=2) ## Org"
   ]
  },
  {
   "cell_type": "code",
   "execution_count": 19,
   "id": "de98f220",
   "metadata": {},
   "outputs": [],
   "source": [
    "mf6Vtk.generateHeadVtk(nper=2, crop=True) ## Org"
   ]
  },
  {
   "cell_type": "code",
   "execution_count": 20,
   "id": "bf2c97f2",
   "metadata": {},
   "outputs": [],
   "source": [
    "mf6Vtk.generateWaterTableVtk(nper=2) "
   ]
  },
  {
   "cell_type": "code",
   "execution_count": null,
   "id": "06ac9538",
   "metadata": {},
   "outputs": [],
   "source": []
  }
 ],
 "metadata": {
  "kernelspec": {
   "display_name": "Python 3",
   "language": "python",
   "name": "python3"
  },
  "language_info": {
   "codemirror_mode": {
    "name": "ipython",
    "version": 3
   },
   "file_extension": ".py",
   "mimetype": "text/x-python",
   "name": "python",
   "nbconvert_exporter": "python",
   "pygments_lexer": "ipython3",
   "version": "3.12.3"
  }
 },
 "nbformat": 4,
 "nbformat_minor": 5
}
