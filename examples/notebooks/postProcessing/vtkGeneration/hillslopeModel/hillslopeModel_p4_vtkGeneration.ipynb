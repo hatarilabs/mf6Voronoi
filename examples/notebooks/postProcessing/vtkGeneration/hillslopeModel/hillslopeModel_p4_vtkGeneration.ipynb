{
 "cells": [
  {
   "cell_type": "code",
   "execution_count": 1,
   "id": "b5456407-e3fb-4f43-aa78-fb5523ab3b00",
   "metadata": {},
   "outputs": [],
   "source": [
    "#Vtk generation\n",
    "import flopy ## Org\n",
    "from mf6Voronoi.tools.vtkGen import Mf6VtkGenerator ## Org\n",
    "from mf6Voronoi.utils import initiateOutputFolder ## Org"
   ]
  },
  {
   "cell_type": "code",
   "execution_count": 2,
   "id": "afdd989d-8049-4003-9a5e-4484d4566b52",
   "metadata": {},
   "outputs": [
    {
     "name": "stdout",
     "output_type": "stream",
     "text": [
      "loading simulation...\n",
      "  loading simulation name file...\n",
      "  loading tdis package...\n",
      "  loading model gwf6...\n",
      "    loading package dis...\n",
      "    loading package ic...\n",
      "    loading package npf...\n",
      "    loading package obs...\n",
      "    loading package oc...\n",
      "    loading package ghb...\n",
      "    loading package drn...\n",
      "    loading package rch...\n",
      "    loading package evt...\n",
      "  loading solution package modflow...\n"
     ]
    }
   ],
   "source": [
    "# load simulation\n",
    "simName = 'mf6Sim' ## Org\n",
    "modelName = 'mf6Model' ## Org\n",
    "modelWs = '../../../../mf6models/hillslopeModel' ## Org\n",
    "sim = flopy.mf6.MFSimulation.load(sim_name=modelName, version='mf6', ## Org\n",
    "                             exe_name='bin/mf6.exe', ## Org\n",
    "                             sim_ws=modelWs) ## Org"
   ]
  },
  {
   "cell_type": "code",
   "execution_count": 3,
   "id": "cc644b24-0172-4ae6-890f-0641a1028434",
   "metadata": {},
   "outputs": [
    {
     "name": "stdout",
     "output_type": "stream",
     "text": [
      "The output folder vtk exists and has been cleared\n"
     ]
    },
    {
     "data": {
      "text/html": [
       "\n",
       "    <link href=\"https://fonts.googleapis.com/css2?family=Anton&display=swap\" rel=\"stylesheet\">\n",
       "\n",
       "    <style>\n",
       "        .styled-text {\n",
       "        font-family: 'Anton', Impact, sans-serif;\n",
       "        font-size: 32px;\n",
       "        font-weight: bold;\n",
       "        font-style: italic;\n",
       "        }\n",
       "    </style>\n",
       "\n",
       "    <div>\n",
       "    <a href=\"https://hatarilabs.com\" target=\"_blank\">\n",
       "            <img src=\"https://olivosbellaterra.com/static/img/png/hatarilabs.png\" alt=\"Hatarilabs\" width=\"200\" height=\"200\"></a> \n",
       "            <p class=\"styled-text\">build faster, analyze more</p>\n",
       "    </div>\n",
       "\n",
       "    <table border=\"0px\">\n",
       "    <tbody>\n",
       "    <tr>\n",
       "        <td><h3>Follow us:</h3></td>\n",
       "        <td><a href=\"https://www.linkedin.com/company/hatarilabs\" target=\"_blank\">\n",
       "            <img src=\"https://olivosbellaterra.com/static/img/svg/icons8-linkedin.svg\" alt=\"Hatarilabs\"></a></td>\n",
       "        <td><a href=\"https://www.facebook.com/hatarilabs\" target=\"_blank\">\n",
       "            <img src=\"https://olivosbellaterra.com/static/img/svg/icons8-facebook.svg\" alt=\"Hatarilabs\"></a></td>\n",
       "        <td><a href=\"https://www.instagram.com/hatarilabs\" target=\"_blank\">\n",
       "            <img src=\"https://olivosbellaterra.com/static/img/svg/icons8-instagram.svg\" alt=\"Hatarilabs\"></a></td>\n",
       "        <td><a href=\"https://www.youtube.com/hatarilabs\" target=\"_blank\">\n",
       "            <img src=\"https://olivosbellaterra.com/static/img/svg/icons8-youtube.svg\" alt=\"Hatarilabs\"></a></td>\n",
       "        <td><a href=\"https://www.tiktok.com/@_hatarilabs\" target=\"_blank\">\n",
       "            <img src=\"https://olivosbellaterra.com/static/img/svg/icons8-tiktok.svg\" alt=\"Hatarilabs\"></a></td>\n",
       "        <td><a href=\"https://x.com/hatarilabs\" target=\"_blank\">\n",
       "            <img src=\"https://olivosbellaterra.com/static/img/svg/icons8-twitterx.svg\" alt=\"Hatarilabs\"></a></td>\n",
       "    </tr>\n",
       "    </tbody>\n",
       "    </table>\n",
       "\n",
       "    "
      ],
      "text/plain": [
       "<IPython.core.display.HTML object>"
      ]
     },
     "metadata": {},
     "output_type": "display_data"
    },
    {
     "name": "stdout",
     "output_type": "stream",
     "text": [
      "\n",
      "/---------------------------------------/\n",
      "\n",
      "The Vtk generator engine has been started\n",
      "\n",
      "/---------------------------------------/\n"
     ]
    }
   ],
   "source": [
    "vtkDir = 'vtk' ## Org\n",
    "initiateOutputFolder(vtkDir) ## Org\n",
    "\n",
    "mf6Vtk = Mf6VtkGenerator(sim, vtkDir) ## Org"
   ]
  },
  {
   "cell_type": "code",
   "execution_count": 4,
   "id": "d6d77995",
   "metadata": {},
   "outputs": [
    {
     "name": "stdout",
     "output_type": "stream",
     "text": [
      "\n",
      " Models in simulation: ['modflow']\n"
     ]
    }
   ],
   "source": [
    "#list models on the simulation\n",
    "mf6Vtk.listModels() ## Org"
   ]
  },
  {
   "cell_type": "code",
   "execution_count": 5,
   "id": "bb5633e9-e613-4960-b4f7-7bb639e99fa5",
   "metadata": {},
   "outputs": [
    {
     "name": "stdout",
     "output_type": "stream",
     "text": [
      "Package list: ['DIS', 'IC', 'NPF', 'OBS-1', 'OC', 'GHB-1', 'DRN-1', 'RCH-1', 'EVT-1']\n"
     ]
    }
   ],
   "source": [
    "mf6Vtk.loadModel('modflow') ## Org"
   ]
  },
  {
   "cell_type": "code",
   "execution_count": 6,
   "id": "d91089b0-6a14-439a-882b-e6766a3706c7",
   "metadata": {},
   "outputs": [
    {
     "data": {
      "text/plain": [
       "[(0, 0)]"
      ]
     },
     "execution_count": 6,
     "metadata": {},
     "output_type": "execute_result"
    }
   ],
   "source": [
    "#show output data\n",
    "headObj = mf6Vtk.gwf.output.head() ## Org\n",
    "headObj.get_kstpkper() ## Org"
   ]
  },
  {
   "cell_type": "code",
   "execution_count": 7,
   "id": "39feff43-c935-42e4-bbd3-7d6b87290562",
   "metadata": {},
   "outputs": [],
   "source": [
    "#generate model geometry as vtk and parameter array\n",
    "mf6Vtk.generateGeometryArrays() ## Org"
   ]
  },
  {
   "cell_type": "code",
   "execution_count": 8,
   "id": "3e92a380-268c-4689-b258-ec54e25cb309",
   "metadata": {},
   "outputs": [
    {
     "name": "stdout",
     "output_type": "stream",
     "text": [
      "Parameter Vtk Generated\n"
     ]
    }
   ],
   "source": [
    "#generate parameter vtk\n",
    "mf6Vtk.generateParamVtk() ## Org"
   ]
  },
  {
   "cell_type": "code",
   "execution_count": 9,
   "id": "cf02427f-c9e4-4070-b73b-5e059211249e",
   "metadata": {},
   "outputs": [
    {
     "name": "stdout",
     "output_type": "stream",
     "text": [
      "\n",
      "/--------GHB-1 vtk generation-------/\n",
      "Working for GHB-1 package, creating the datasets: ('bhead', 'cond', 'iface', 'boundname')\n",
      "Vtk file took 0.2247 seconds to be generated.\n",
      "/--------GHB-1 vtk generated-------/\n",
      "\n",
      "\n",
      "/--------DRN-1 vtk generation-------/\n",
      "Working for DRN-1 package, creating the datasets: ('elev', 'cond', 'iface', 'ddrn', 'boundname')\n",
      "Vtk file took 0.1638 seconds to be generated.\n",
      "/--------DRN-1 vtk generated-------/\n",
      "\n",
      "\n",
      "/--------RCH-1 vtk generation-------/\n",
      "Working for RCH-1 package, creating the datasets: ('recharge', 'iface', 'boundname')\n",
      "Vtk file took 0.8219 seconds to be generated.\n",
      "/--------RCH-1 vtk generated-------/\n",
      "\n",
      "\n",
      "/--------EVT-1 vtk generation-------/\n",
      "Working for EVT-1 package, creating the datasets: ('surface', 'rate', 'depth', 'iface', 'boundname')\n",
      "Vtk file took 0.8043 seconds to be generated.\n",
      "/--------EVT-1 vtk generated-------/\n",
      "\n"
     ]
    }
   ],
   "source": [
    "#generate bc and obs vtk\n",
    "mf6Vtk.generateBcObsVtk(nper=0) ## Org"
   ]
  },
  {
   "cell_type": "code",
   "execution_count": 10,
   "id": "ead72765-89c9-4dd0-bb64-04686c7d3197",
   "metadata": {},
   "outputs": [],
   "source": [
    "mf6Vtk.generateHeadVtk(nper=0, crop=True) ## Org"
   ]
  },
  {
   "cell_type": "code",
   "execution_count": 11,
   "id": "13c14ada",
   "metadata": {},
   "outputs": [],
   "source": [
    "mf6Vtk.generateWaterTableVtk(nper=0) ## Org"
   ]
  },
  {
   "cell_type": "code",
   "execution_count": null,
   "id": "87a49f3c",
   "metadata": {},
   "outputs": [],
   "source": []
  }
 ],
 "metadata": {
  "kernelspec": {
   "display_name": "Python 3",
   "language": "python",
   "name": "python3"
  },
  "language_info": {
   "codemirror_mode": {
    "name": "ipython",
    "version": 3
   },
   "file_extension": ".py",
   "mimetype": "text/x-python",
   "name": "python",
   "nbconvert_exporter": "python",
   "pygments_lexer": "ipython3",
   "version": "3.12.3"
  }
 },
 "nbformat": 4,
 "nbformat_minor": 5
}
