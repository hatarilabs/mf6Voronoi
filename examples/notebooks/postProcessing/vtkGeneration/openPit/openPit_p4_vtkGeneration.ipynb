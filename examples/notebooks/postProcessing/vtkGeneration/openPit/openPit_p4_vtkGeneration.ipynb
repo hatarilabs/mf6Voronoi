{
 "cells": [
  {
   "cell_type": "code",
   "execution_count": 1,
   "id": "b5456407-e3fb-4f43-aa78-fb5523ab3b00",
   "metadata": {},
   "outputs": [],
   "source": [
    "#Vtk generation\n",
    "import flopy ## Org\n",
    "from mf6Voronoi.tools.vtkGen import Mf6VtkGenerator ## Org\n",
    "from mf6Voronoi.utils import initiateOutputFolder ## Org"
   ]
  },
  {
   "cell_type": "code",
   "execution_count": 2,
   "id": "afdd989d-8049-4003-9a5e-4484d4566b52",
   "metadata": {},
   "outputs": [
    {
     "name": "stdout",
     "output_type": "stream",
     "text": [
      "loading simulation...\n",
      "  loading simulation name file...\n",
      "  loading tdis package...\n",
      "  loading model gwf6...\n",
      "    loading package disv...\n",
      "    loading package ic...\n",
      "    loading package npf...\n",
      "    loading package sto...\n",
      "    loading package rch...\n",
      "    loading package evt...\n",
      "    loading package drn...\n",
      "    loading package oc...\n",
      "  loading solution package mf6model...\n"
     ]
    }
   ],
   "source": [
    "# load simulation\n",
    "simName = 'mf6Sim' ## Org\n",
    "modelName = 'mf6Model' ## Org\n",
    "modelWs = '../../../../mf6models/openPit' ## Org\n",
    "sim = flopy.mf6.MFSimulation.load(sim_name=modelName, version='mf6', ## Org\n",
    "                             exe_name='bin/mf6.exe', ## Org\n",
    "                             sim_ws=modelWs) ## Org"
   ]
  },
  {
   "cell_type": "code",
   "execution_count": 3,
   "id": "cc644b24-0172-4ae6-890f-0641a1028434",
   "metadata": {},
   "outputs": [
    {
     "name": "stdout",
     "output_type": "stream",
     "text": [
      "The output folder vtk has been generated.\n"
     ]
    },
    {
     "data": {
      "text/html": [
       "\n",
       "    <link href=\"https://fonts.googleapis.com/css2?family=Anton&display=swap\" rel=\"stylesheet\">\n",
       "\n",
       "    <style>\n",
       "        .styled-text {\n",
       "        font-family: 'Anton', Impact, sans-serif;\n",
       "        font-size: 32px;\n",
       "        font-weight: bold;\n",
       "        font-style: italic;\n",
       "        }\n",
       "    </style>\n",
       "\n",
       "    <div>\n",
       "    <a href=\"https://hatarilabs.com\" target=\"_blank\">\n",
       "            <img src=\"https://olivosbellaterra.com/static/img/png/hatarilabs.png\" alt=\"Hatarilabs\" width=\"200\" height=\"200\"></a> \n",
       "            <p class=\"styled-text\">build faster, analyze more</p>\n",
       "    </div>\n",
       "\n",
       "    <table border=\"0px\">\n",
       "    <tbody>\n",
       "    <tr>\n",
       "        <td><h3>Follow us:</h3></td>\n",
       "        <td><a href=\"https://www.linkedin.com/company/hatarilabs\" target=\"_blank\">\n",
       "            <img src=\"https://olivosbellaterra.com/static/img/svg/icons8-linkedin.svg\" alt=\"Hatarilabs\"></a></td>\n",
       "        <td><a href=\"https://www.facebook.com/hatarilabs\" target=\"_blank\">\n",
       "            <img src=\"https://olivosbellaterra.com/static/img/svg/icons8-facebook.svg\" alt=\"Hatarilabs\"></a></td>\n",
       "        <td><a href=\"https://www.instagram.com/hatarilabs\" target=\"_blank\">\n",
       "            <img src=\"https://olivosbellaterra.com/static/img/svg/icons8-instagram.svg\" alt=\"Hatarilabs\"></a></td>\n",
       "        <td><a href=\"https://www.youtube.com/hatarilabs\" target=\"_blank\">\n",
       "            <img src=\"https://olivosbellaterra.com/static/img/svg/icons8-youtube.svg\" alt=\"Hatarilabs\"></a></td>\n",
       "        <td><a href=\"https://www.tiktok.com/@_hatarilabs\" target=\"_blank\">\n",
       "            <img src=\"https://olivosbellaterra.com/static/img/svg/icons8-tiktok.svg\" alt=\"Hatarilabs\"></a></td>\n",
       "        <td><a href=\"https://x.com/hatarilabs\" target=\"_blank\">\n",
       "            <img src=\"https://olivosbellaterra.com/static/img/svg/icons8-twitterx.svg\" alt=\"Hatarilabs\"></a></td>\n",
       "    </tr>\n",
       "    </tbody>\n",
       "    </table>\n",
       "\n",
       "    "
      ],
      "text/plain": [
       "<IPython.core.display.HTML object>"
      ]
     },
     "metadata": {},
     "output_type": "display_data"
    },
    {
     "name": "stdout",
     "output_type": "stream",
     "text": [
      "\n",
      "/---------------------------------------/\n",
      "\n",
      "The Vtk generator engine has been started\n",
      "\n",
      "/---------------------------------------/\n"
     ]
    }
   ],
   "source": [
    "vtkDir = 'vtk' ## Org\n",
    "initiateOutputFolder(vtkDir) ## Org\n",
    "\n",
    "mf6Vtk = Mf6VtkGenerator(sim, vtkDir) ## Org"
   ]
  },
  {
   "cell_type": "code",
   "execution_count": 4,
   "id": "d6d77995",
   "metadata": {},
   "outputs": [
    {
     "name": "stdout",
     "output_type": "stream",
     "text": [
      "\n",
      " Models in simulation: ['mf6model']\n"
     ]
    }
   ],
   "source": [
    "#list models on the simulation\n",
    "mf6Vtk.listModels() ## Org"
   ]
  },
  {
   "cell_type": "code",
   "execution_count": 5,
   "id": "bb5633e9-e613-4960-b4f7-7bb639e99fa5",
   "metadata": {},
   "outputs": [
    {
     "name": "stdout",
     "output_type": "stream",
     "text": [
      "Package list: ['DISV', 'IC', 'NPF', 'STO', 'RCHA_0', 'EVTA_0', 'DRN_0', 'OC']\n"
     ]
    }
   ],
   "source": [
    "mf6Vtk.loadModel(modelName) ## Org"
   ]
  },
  {
   "cell_type": "code",
   "execution_count": 6,
   "id": "d91089b0-6a14-439a-882b-e6766a3706c7",
   "metadata": {},
   "outputs": [
    {
     "data": {
      "text/plain": [
       "[(0, 0), (0, 1), (0, 2), (0, 3), (0, 4)]"
      ]
     },
     "execution_count": 6,
     "metadata": {},
     "output_type": "execute_result"
    }
   ],
   "source": [
    "#show output data\n",
    "headObj = mf6Vtk.gwf.output.head() ## Org\n",
    "headObj.get_kstpkper() ## Org"
   ]
  },
  {
   "cell_type": "code",
   "execution_count": 7,
   "id": "39feff43-c935-42e4-bbd3-7d6b87290562",
   "metadata": {},
   "outputs": [],
   "source": [
    "#generate model geometry as vtk and parameter array\n",
    "mf6Vtk.generateGeometryArrays() ## Org"
   ]
  },
  {
   "cell_type": "code",
   "execution_count": 8,
   "id": "3e92a380-268c-4689-b258-ec54e25cb309",
   "metadata": {},
   "outputs": [
    {
     "name": "stdout",
     "output_type": "stream",
     "text": [
      "Parameter Vtk Generated\n"
     ]
    }
   ],
   "source": [
    "#generate parameter vtk\n",
    "mf6Vtk.generateParamVtk() ## Org"
   ]
  },
  {
   "cell_type": "code",
   "execution_count": 9,
   "id": "cf02427f-c9e4-4070-b73b-5e059211249e",
   "metadata": {},
   "outputs": [
    {
     "name": "stdout",
     "output_type": "stream",
     "text": [
      "\n",
      "/--------RCHA_0 vtk generation-------/\n",
      "Working for RCHA_0 package, creating the datasets: dict_keys(['irch', 'recharge', 'aux'])\n",
      "[WARNING] There is no data for the required stress period\n",
      "Vtk file took 0.0294 seconds to be generated.\n",
      "/--------RCHA_0 vtk generated-------/\n",
      "\n",
      "\n",
      "/--------EVTA_0 vtk generation-------/\n",
      "Working for EVTA_0 package, creating the datasets: dict_keys(['ievt', 'surface', 'rate', 'depth', 'aux'])\n",
      "[WARNING] There is no data for the required stress period\n",
      "Vtk file took 0.0153 seconds to be generated.\n",
      "/--------EVTA_0 vtk generated-------/\n",
      "\n",
      "\n",
      "/--------DRN_0 vtk generation-------/\n",
      "Working for DRN_0 package, creating the datasets: ('elev', 'cond')\n",
      "Vtk file took 2.8375 seconds to be generated.\n",
      "/--------DRN_0 vtk generated-------/\n",
      "\n"
     ]
    }
   ],
   "source": [
    "#generate bc and obs vtk\n",
    "mf6Vtk.generateBcObsVtk(nper=3) ## Org"
   ]
  },
  {
   "cell_type": "code",
   "execution_count": 10,
   "id": "ead72765-89c9-4dd0-bb64-04686c7d3197",
   "metadata": {},
   "outputs": [],
   "source": [
    "mf6Vtk.generateHeadVtk(nper=3, crop=True) ## Org"
   ]
  },
  {
   "cell_type": "code",
   "execution_count": 11,
   "id": "13c14ada",
   "metadata": {},
   "outputs": [],
   "source": [
    "mf6Vtk.generateWaterTableVtk(nper=3) ## Org"
   ]
  },
  {
   "cell_type": "code",
   "execution_count": null,
   "id": "87a49f3c",
   "metadata": {},
   "outputs": [],
   "source": []
  }
 ],
 "metadata": {
  "kernelspec": {
   "display_name": "Python 3",
   "language": "python",
   "name": "python3"
  },
  "language_info": {
   "codemirror_mode": {
    "name": "ipython",
    "version": 3
   },
   "file_extension": ".py",
   "mimetype": "text/x-python",
   "name": "python",
   "nbconvert_exporter": "python",
   "pygments_lexer": "ipython3",
   "version": "3.12.3"
  }
 },
 "nbformat": 4,
 "nbformat_minor": 5
}
