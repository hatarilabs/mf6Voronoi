{
 "cells": [
  {
   "cell_type": "code",
   "execution_count": null,
   "id": "b5456407-e3fb-4f43-aa78-fb5523ab3b00",
   "metadata": {},
   "outputs": [],
   "source": [
    "#Vtk generation\n",
    "import flopy ## Org\n",
    "#from mf6Voronoi.tools.vtkGen import Mf6VtkGenerator ## Org\n",
    "from mf6Voronoi.utils import initiateOutputFolder ## Org"
   ]
  },
  {
   "cell_type": "code",
   "execution_count": null,
   "id": "aade2f8a",
   "metadata": {},
   "outputs": [],
   "source": [
    "import os\n",
    "os.listdir('../../../../mf6models')\n",
    "#!pip install -U flopy --break-system-packages"
   ]
  },
  {
   "cell_type": "code",
   "execution_count": null,
   "id": "afdd989d-8049-4003-9a5e-4484d4566b52",
   "metadata": {},
   "outputs": [],
   "source": [
    "# load simulation\n",
    "simName = 'mf6Sim' ## Org\n",
    "modelName = 'mf6Model' ## Org\n",
    "modelWs = '../../../../mf6models/ex-gwf-bcf2ss-p01a' ## Org\n",
    "sim = flopy.mf6.MFSimulation.load(sim_name=simName, version='mf6', ## Org\n",
    "                             exe_name='../../../../bin/mf6', ## Org\n",
    "                             sim_ws=modelWs) ## Org"
   ]
  },
  {
   "cell_type": "code",
   "execution_count": null,
   "id": "07397b49",
   "metadata": {},
   "outputs": [],
   "source": [
    "sim.run_simulation()"
   ]
  },
  {
   "cell_type": "code",
   "execution_count": null,
   "id": "a7427e13",
   "metadata": {},
   "outputs": [],
   "source": [
    "sim.model_names"
   ]
  },
  {
   "cell_type": "code",
   "execution_count": null,
   "id": "03fdc0e7",
   "metadata": {},
   "outputs": [],
   "source": [
    "gwf = sim.get_model('ex-gwf-bcf2ss') ## Org"
   ]
  },
  {
   "cell_type": "code",
   "execution_count": null,
   "id": "1684dde8",
   "metadata": {},
   "outputs": [],
   "source": [
    "head = gwf.output.head().get_data()\n",
    "bud = gwf.output.budget()\n",
    "spdis = bud.get_data(text='DATA-SPDIS')[0]\n",
    "spdis"
   ]
  },
  {
   "cell_type": "code",
   "execution_count": null,
   "id": "da7d1b53",
   "metadata": {},
   "outputs": [],
   "source": [
    "import numpy as np\n",
    "hactive = head[head>gwf.hdry]\n",
    "hactive = head[head<gwf.hnoflo]\n",
    "levels = np.linspace(hactive.min(),hactive.max(),10)\n",
    "levels\n"
   ]
  },
  {
   "cell_type": "markdown",
   "id": "1cc23ff4",
   "metadata": {},
   "source": [
    "import matplotlib.pyplot as plt ## Org\n",
    "fig, ax = plt.subplots(figsize=(10, 10)) ## Org\n",
    "\n",
    "qx, qy, qz = flopy.utils.postprocessing.get_specific_discharge(spdis, gwf)\n",
    "pmv = flopy.plot.PlotMapView(gwf, layer=5)\n",
    "pmv.plot_grid(colors='crimson', lw=0.3, alpha=0.5,ax=ax, zorder=1) ## Org\n",
    "pmv.plot_array(head[5], masked_values=[1e+30], cmap='viridis', \n",
    "               alpha=0.5, ax=ax, zorder=2) ## Org\n",
    "pmv.contour_array(head, levels=levels, linewidths=3., ax=ax,\n",
    "                  zorder=3)\n",
    "pmv.plot_vector(qx, qy, normalize=True, color=\"crimson\", \n",
    "                masked_values=[0], scale_units='width',scale=20, \n",
    "                istep=4,\n",
    "                jstep=4,\n",
    "                ax=ax,\n",
    "                zorder=4)\n",
    "#ax.set_xlim(552000, 553000) ## Org\n",
    "#ax.set_ylim(5307500, 5308500) ## Org"
   ]
  },
  {
   "cell_type": "code",
   "execution_count": null,
   "id": "c8535609",
   "metadata": {},
   "outputs": [],
   "source": [
    "backgroundImageDict = {\n",
    "    'fig':'Png/backgroundImage.png',\n",
    "    'wrl':'Png/backgroundImage.pgw'\n",
    "}"
   ]
  },
  {
   "cell_type": "code",
   "execution_count": null,
   "id": "f888106b",
   "metadata": {},
   "outputs": [],
   "source": [
    "from mf6Voronoi.tools.graphs2d import FlowVectorGenerator\n",
    "FlowVectorGenerator(gwf, layer=1, plotGrid=True)"
   ]
  },
  {
   "cell_type": "code",
   "execution_count": null,
   "id": "410b0b06",
   "metadata": {},
   "outputs": [],
   "source": []
  }
 ],
 "metadata": {
  "kernelspec": {
   "display_name": "Python 3",
   "language": "python",
   "name": "python3"
  },
  "language_info": {
   "codemirror_mode": {
    "name": "ipython",
    "version": 3
   },
   "file_extension": ".py",
   "mimetype": "text/x-python",
   "name": "python",
   "nbconvert_exporter": "python",
   "pygments_lexer": "ipython3",
   "version": "3.12.3"
  }
 },
 "nbformat": 4,
 "nbformat_minor": 5
}
