{
 "cells": [
  {
   "cell_type": "code",
   "execution_count": 1,
   "id": "b5456407-e3fb-4f43-aa78-fb5523ab3b00",
   "metadata": {},
   "outputs": [],
   "source": [
    "#Vtk generation\n",
    "import flopy ## Org\n",
    "from mf6Voronoi.tools.vtkGen import Mf6VtkGenerator ## Org\n",
    "from mf6Voronoi.utils import initiateOutputFolder ## Org"
   ]
  },
  {
   "cell_type": "code",
   "execution_count": 2,
   "id": "aade2f8a",
   "metadata": {},
   "outputs": [
    {
     "data": {
      "text/plain": [
       "['ex-gwf-advtidal',\n",
       " 'ex-gwf-bcf2ss-p01a',\n",
       " 'ex-gwf-fhb',\n",
       " 'ex-gwf-toth',\n",
       " 'ex-gwf-twri01',\n",
       " 'hillslopeModel',\n",
       " 'openPit',\n",
       " 'regionalModel']"
      ]
     },
     "execution_count": 2,
     "metadata": {},
     "output_type": "execute_result"
    }
   ],
   "source": [
    "import os\n",
    "os.listdir('../../../../mf6models')\n",
    "#!pip install -U flopy --break-system-packages"
   ]
  },
  {
   "cell_type": "code",
   "execution_count": 3,
   "id": "afdd989d-8049-4003-9a5e-4484d4566b52",
   "metadata": {},
   "outputs": [
    {
     "name": "stdout",
     "output_type": "stream",
     "text": [
      "loading simulation...\n",
      "  loading simulation name file...\n",
      "  loading tdis package...\n",
      "  loading model gwf6...\n",
      "    loading package dis...\n",
      "    loading package npf...\n",
      "    loading package ic...\n",
      "    loading package sto...\n",
      "    loading package chd...\n",
      "    loading package wel...\n",
      "    loading package oc...\n",
      "    loading package obs...\n",
      "  loading solution package ex-gwf-fhb...\n"
     ]
    }
   ],
   "source": [
    "# load simulation\n",
    "simName = 'mf6Sim' ## Org\n",
    "modelName = 'mf6Model' ## Org\n",
    "modelWs = '../../../../mf6models/ex-gwf-fhb' ## Org\n",
    "sim = flopy.mf6.MFSimulation.load(sim_name=simName, version='mf6', ## Org\n",
    "                             exe_name='../../../../bin/mf6', ## Org\n",
    "                             sim_ws=modelWs) ## Org"
   ]
  },
  {
   "cell_type": "code",
   "execution_count": 4,
   "id": "07397b49",
   "metadata": {},
   "outputs": [
    {
     "name": "stdout",
     "output_type": "stream",
     "text": [
      "FloPy is using the following executable to run the model: ../../bin/mf6\n",
      "                                   MODFLOW 6\n",
      "                U.S. GEOLOGICAL SURVEY MODULAR HYDROLOGIC MODEL\n",
      "                            VERSION 6.6.0 12/20/2024\n",
      "\n",
      "   MODFLOW 6 compiled Dec 31 2024 17:08:41 with Intel(R) Fortran Intel(R) 64\n",
      "   Compiler Classic for applications running on Intel(R) 64, Version 2021.7.0\n",
      "                             Build 20220726_000000\n",
      "\n",
      "This software has been approved for release by the U.S. Geological \n",
      "Survey (USGS). Although the software has been subjected to rigorous \n",
      "review, the USGS reserves the right to update the software as needed \n",
      "pursuant to further analysis and review. No warranty, expressed or \n",
      "implied, is made by the USGS or the U.S. Government as to the \n",
      "functionality of the software and related material nor shall the \n",
      "fact of release constitute any such warranty. Furthermore, the \n",
      "software is released on condition that neither the USGS nor the U.S. \n",
      "Government shall be held liable for any damages resulting from its \n",
      "authorized or unauthorized use. Also refer to the USGS Water \n",
      "Resources Software User Rights Notice for complete use, copyright, \n",
      "and distribution information.\n",
      "\n",
      " \n",
      " MODFLOW runs in SEQUENTIAL mode\n",
      " \n",
      " Run start date and time (yyyy/mm/dd hh:mm:ss): 2025/06/04 17:00:02\n",
      " \n",
      " Writing simulation list file: mfsim.lst\n",
      " Using Simulation name file: mfsim.nam\n",
      " \n",
      "    Solving:  Stress period:     1    Time step:     1\n",
      "    Solving:  Stress period:     1    Time step:     2\n",
      "    Solving:  Stress period:     1    Time step:     3\n",
      "    Solving:  Stress period:     1    Time step:     4\n",
      "    Solving:  Stress period:     1    Time step:     5\n",
      "    Solving:  Stress period:     1    Time step:     6\n",
      "    Solving:  Stress period:     1    Time step:     7\n",
      "    Solving:  Stress period:     1    Time step:     8\n",
      "    Solving:  Stress period:     1    Time step:     9\n",
      "    Solving:  Stress period:     1    Time step:    10\n",
      "    Solving:  Stress period:     2    Time step:     1\n",
      "    Solving:  Stress period:     2    Time step:     2\n",
      "    Solving:  Stress period:     2    Time step:     3\n",
      "    Solving:  Stress period:     2    Time step:     4\n",
      "    Solving:  Stress period:     3    Time step:     1\n",
      "    Solving:  Stress period:     3    Time step:     2\n",
      "    Solving:  Stress period:     3    Time step:     3\n",
      "    Solving:  Stress period:     3    Time step:     4\n",
      "    Solving:  Stress period:     3    Time step:     5\n",
      "    Solving:  Stress period:     3    Time step:     6\n",
      " \n",
      " Run end date and time (yyyy/mm/dd hh:mm:ss): 2025/06/04 17:00:03\n",
      " Elapsed run time:  0.949 Seconds\n",
      " \n",
      " Normal termination of simulation.\n"
     ]
    },
    {
     "data": {
      "text/plain": [
       "(True, [])"
      ]
     },
     "execution_count": 4,
     "metadata": {},
     "output_type": "execute_result"
    }
   ],
   "source": [
    "sim.run_simulation()"
   ]
  },
  {
   "cell_type": "code",
   "execution_count": 5,
   "id": "a7427e13",
   "metadata": {},
   "outputs": [
    {
     "data": {
      "text/plain": [
       "['ex-gwf-fhb']"
      ]
     },
     "execution_count": 5,
     "metadata": {},
     "output_type": "execute_result"
    }
   ],
   "source": [
    "sim.model_names"
   ]
  },
  {
   "cell_type": "code",
   "execution_count": 6,
   "id": "03fdc0e7",
   "metadata": {},
   "outputs": [],
   "source": [
    "gwf = sim.get_model('ex-gwf-fhb') ## Org"
   ]
  },
  {
   "cell_type": "code",
   "execution_count": 7,
   "id": "1684dde8",
   "metadata": {},
   "outputs": [
    {
     "data": {
      "text/plain": [
       "rec.array([( 1,  1, 0., 0.0026598 ,  2.65996069e-03, 0.),\n",
       "           ( 2,  2, 0., 0.00293731,  5.55165516e-04, 0.),\n",
       "           ( 3,  3, 0., 0.00327269,  1.15869664e-04, 0.),\n",
       "           ( 4,  4, 0., 0.00334259,  2.41833806e-05, 0.),\n",
       "           ( 5,  5, 0., 0.0033571 ,  5.04735920e-06, 0.),\n",
       "           ( 6,  6, 0., 0.00336007,  1.05344048e-06, 0.),\n",
       "           ( 7,  7, 0., 0.00336063,  2.19848707e-07, 0.),\n",
       "           ( 8,  8, 0., 0.00336071,  4.58018132e-08, 0.),\n",
       "           ( 9,  9, 0., 0.0033607 ,  9.16019165e-09, 0.),\n",
       "           (10, 10, 0., 0.00336069,  0.00000000e+00, 0.),\n",
       "           (11, 11, 0., 0.0047646 , -8.26983881e-14, 0.),\n",
       "           (12, 12, 0., 0.00420936, -9.61320325e-14, 0.),\n",
       "           (13, 13, 0., 0.00353818, -2.39697178e-14, 0.),\n",
       "           (14, 14, 0., 0.003398  , -3.07442958e-14, 0.),\n",
       "           (15, 15, 0., 0.00336867, -7.91589135e-16, 0.),\n",
       "           (16, 16, 0., 0.00336248,  3.62043729e-14, 0.),\n",
       "           (17, 17, 0., 0.00336113,  3.32489591e-14, 0.),\n",
       "           (18, 18, 0., 0.00336081,  3.65696362e-14, 0.),\n",
       "           (19, 19, 0., 0.00336072,  1.46549439e-14, 0.),\n",
       "           (20, 20, 0., 0.0033607 ,  0.00000000e+00, 0.),\n",
       "           (21, 21, 0., 0.0026598 , -2.65996069e-03, 0.),\n",
       "           (22, 22, 0., 0.00293731, -5.55165516e-04, 0.),\n",
       "           (23, 23, 0., 0.00327269, -1.15869664e-04, 0.),\n",
       "           (24, 24, 0., 0.00334259, -2.41833807e-05, 0.),\n",
       "           (25, 25, 0., 0.0033571 , -5.04735920e-06, 0.),\n",
       "           (26, 26, 0., 0.00336007, -1.05344040e-06, 0.),\n",
       "           (27, 27, 0., 0.00336063, -2.19848641e-07, 0.),\n",
       "           (28, 28, 0., 0.00336071, -4.58017400e-08, 0.),\n",
       "           (29, 29, 0., 0.0033607 , -9.16016234e-09, 0.),\n",
       "           (30, 30, 0., 0.00336069,  0.00000000e+00, 0.)],\n",
       "          dtype=[('node', '<i4'), ('node2', '<i4'), ('q', '<f8'), ('qx', '<f8'), ('qy', '<f8'), ('qz', '<f8')])"
      ]
     },
     "execution_count": 7,
     "metadata": {},
     "output_type": "execute_result"
    }
   ],
   "source": [
    "head = gwf.output.head().get_data()\n",
    "bud = gwf.output.budget()\n",
    "spdis = bud.get_data(text='DATA-SPDIS')[0]\n",
    "spdis"
   ]
  },
  {
   "cell_type": "code",
   "execution_count": 8,
   "id": "da7d1b53",
   "metadata": {},
   "outputs": [
    {
     "data": {
      "text/plain": [
       "array([2.        , 2.63517462, 3.27034924, 3.90552385, 4.54069847,\n",
       "       5.17587309, 5.81104771, 6.44622233, 7.08139694, 7.71657156])"
      ]
     },
     "execution_count": 8,
     "metadata": {},
     "output_type": "execute_result"
    }
   ],
   "source": [
    "import numpy as np\n",
    "hactive = head[head>gwf.hdry]\n",
    "hactive = head[head<gwf.hnoflo]\n",
    "levels = np.linspace(hactive.min(),hactive.max(),10)\n",
    "levels\n"
   ]
  },
  {
   "cell_type": "markdown",
   "id": "1cc23ff4",
   "metadata": {},
   "source": [
    "import matplotlib.pyplot as plt ## Org\n",
    "fig, ax = plt.subplots(figsize=(10, 10)) ## Org\n",
    "\n",
    "qx, qy, qz = flopy.utils.postprocessing.get_specific_discharge(spdis, gwf)\n",
    "pmv = flopy.plot.PlotMapView(gwf, layer=5)\n",
    "pmv.plot_grid(colors='crimson', lw=0.3, alpha=0.5,ax=ax, zorder=1) ## Org\n",
    "pmv.plot_array(head[5], masked_values=[1e+30], cmap='viridis', \n",
    "               alpha=0.5, ax=ax, zorder=2) ## Org\n",
    "pmv.contour_array(head, levels=levels, linewidths=3., ax=ax,\n",
    "                  zorder=3)\n",
    "pmv.plot_vector(qx, qy, normalize=True, color=\"crimson\", \n",
    "                masked_values=[0], scale_units='width',scale=20, \n",
    "                istep=4,\n",
    "                jstep=4,\n",
    "                ax=ax,\n",
    "                zorder=4)\n",
    "#ax.set_xlim(552000, 553000) ## Org\n",
    "#ax.set_ylim(5307500, 5308500) ## Org"
   ]
  },
  {
   "cell_type": "code",
   "execution_count": 9,
   "id": "c8535609",
   "metadata": {},
   "outputs": [],
   "source": [
    "backgroundImageDict = {\n",
    "    'fig':'Png/backgroundImage.png',\n",
    "    'wrl':'Png/backgroundImage.pgw'\n",
    "}"
   ]
  },
  {
   "cell_type": "code",
   "execution_count": 15,
   "id": "f888106b",
   "metadata": {},
   "outputs": [
    {
     "data": {
      "image/png": "[encoded data removed]",
      "text/plain": [
       "<Figure size 1000x1000 with 1 Axes>"
      ]
     },
     "metadata": {},
     "output_type": "display_data"
    }
   ],
   "source": [
    "from mf6Voronoi.tools.graphs2d import FlowVectorGenerator\n",
    "FlowVectorGenerator(gwf, layer=0, plotGrid=True,\n",
    "                    scale=20,\n",
    "                    istep=1,\n",
    "                    jstep=1)"
   ]
  },
  {
   "cell_type": "code",
   "execution_count": null,
   "id": "410b0b06",
   "metadata": {},
   "outputs": [],
   "source": []
  }
 ],
 "metadata": {
  "kernelspec": {
   "display_name": "Python 3",
   "language": "python",
   "name": "python3"
  },
  "language_info": {
   "codemirror_mode": {
    "name": "ipython",
    "version": 3
   },
   "file_extension": ".py",
   "mimetype": "text/x-python",
   "name": "python",
   "nbconvert_exporter": "python",
   "pygments_lexer": "ipython3",
   "version": "3.12.3"
  }
 },
 "nbformat": 4,
 "nbformat_minor": 5
}
