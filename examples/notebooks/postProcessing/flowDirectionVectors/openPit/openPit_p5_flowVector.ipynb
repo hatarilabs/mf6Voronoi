{
 "cells": [
  {
   "cell_type": "code",
   "execution_count": 2,
   "id": "b5456407-e3fb-4f43-aa78-fb5523ab3b00",
   "metadata": {},
   "outputs": [],
   "source": [
    "#Vtk generation\n",
    "import flopy ## Org\n",
    "from mf6Voronoi.tools.vtkGen import Mf6VtkGenerator ## Org\n",
    "from mf6Voronoi.utils import initiateOutputFolder ## Org"
   ]
  },
  {
   "cell_type": "code",
   "execution_count": 3,
   "id": "aade2f8a",
   "metadata": {},
   "outputs": [],
   "source": [
    "import os\n",
    "os.listdir('../../../../mf6models')\n",
    "#!pip install -U flopy --break-system-packages"
   ]
  },
  {
   "cell_type": "code",
   "execution_count": 4,
   "id": "afdd989d-8049-4003-9a5e-4484d4566b52",
   "metadata": {},
   "outputs": [],
   "source": [
    "# load simulation\n",
    "simName = 'mf6Sim' ## Org\n",
    "modelName = 'mf6Model' ## Org\n",
    "modelWs = '../../../../mf6models/hillslopeModel' ## Org\n",
    "sim = flopy.mf6.MFSimulation.load(sim_name=simName, version='mf6', ## Org\n",
    "                             exe_name='bin/mf6.exe', ## Org\n",
    "                             sim_ws=modelWs) ## Org"
   ]
  },
  {
   "cell_type": "code",
   "execution_count": 5,
   "id": "a7427e13",
   "metadata": {},
   "outputs": [],
   "source": [
    "gwf = sim.get_model('modflow') ## Org"
   ]
  },
  {
   "cell_type": "code",
   "execution_count": 7,
   "id": "1684dde8",
   "metadata": {},
   "outputs": [],
   "source": [
    "head = gwf.output.head().get_data()\n",
    "bud = gwf.output.budget()\n",
    "spdis = bud.get_data(text='DATA-SPDIS')[0]\n",
    "spdis\n"
   ]
  },
  {
   "cell_type": "code",
   "execution_count": null,
   "id": "da7d1b53",
   "metadata": {},
   "outputs": [],
   "source": [
    "import numpy as np ## Org\n"
   ]
  },
  {
   "cell_type": "code",
   "execution_count": 36,
   "id": "1cc23ff4",
   "metadata": {},
   "outputs": [],
   "source": [
    "import matplotlib.pyplot as plt ## Org\n",
    "fig, ax = plt.subplots(figsize=(10, 10)) ## Org\n",
    "\n",
    "qx, qy, qz = flopy.utils.postprocessing.get_specific_discharge(spdis, gwf)\n",
    "pmv = flopy.plot.PlotMapView(gwf)\n",
    "pmv.plot_array(head[5], masked_values=[1e+30], cmap='viridis',ax=ax) ## Org\n",
    "pmv.plot_grid(colors='crimson',alpha=0.5,ax=ax) ## Org\n",
    "pmv.contour_array(head, levels=[.2, .4, .6, .8], linewidths=3., ax=ax)\n",
    "pmv.plot_vector(qx, qy, normalize=False, color=\"crimson\", \n",
    "                masked_values=[np.nan], ax=ax)\n",
    "ax.set_xlim(552000, 553000) ## Org\n",
    "ax.set_ylim(5307500, 5308500) ## Org"
   ]
  },
  {
   "cell_type": "code",
   "execution_count": 34,
   "id": "2c34b6af",
   "metadata": {},
   "outputs": [],
   "source": [
    "gwf.modelgrid"
   ]
  },
  {
   "cell_type": "code",
   "execution_count": null,
   "id": "a51e1b55",
   "metadata": {},
   "outputs": [],
   "source": []
  }
 ],
 "metadata": {
  "kernelspec": {
   "display_name": "Python 3",
   "language": "python",
   "name": "python3"
  },
  "language_info": {
   "codemirror_mode": {
    "name": "ipython",
    "version": 3
   },
   "file_extension": ".py",
   "mimetype": "text/x-python",
   "name": "python",
   "nbconvert_exporter": "python",
   "pygments_lexer": "ipython3",
   "version": "3.12.3"
  }
 },
 "nbformat": 4,
 "nbformat_minor": 5
}
